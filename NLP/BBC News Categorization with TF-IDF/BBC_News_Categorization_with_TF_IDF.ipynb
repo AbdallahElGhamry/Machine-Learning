{
  "nbformat": 4,
  "nbformat_minor": 0,
  "metadata": {
    "colab": {
      "name": "BBC News Categorization with TF-IDF.ipynb",
      "provenance": [],
      "collapsed_sections": []
    },
    "kernelspec": {
      "name": "python3",
      "display_name": "Python 3"
    }
  },
  "cells": [
    {
      "cell_type": "markdown",
      "metadata": {
        "id": "_hu_hwCbY_pU"
      },
      "source": [
        "# **BBC News Categorization with TF-IDF**"
      ]
    },
    {
      "cell_type": "markdown",
      "metadata": {
        "id": "NxI44QbSZ6dL"
      },
      "source": [
        "**Loading the Data**\n",
        "\n",
        "https://www.kaggle.com/yufengdev/bbc-fulltext-and-category"
      ]
    },
    {
      "cell_type": "markdown",
      "metadata": {
        "id": "rukW9fhaZPLB"
      },
      "source": [
        "**Importing the libraries**"
      ]
    },
    {
      "cell_type": "code",
      "metadata": {
        "id": "OXsXXMKqWgBL"
      },
      "source": [
        "import numpy as np\n",
        "import pandas as pd\n",
        "import matplotlib.pyplot as plt\n",
        "import seaborn as sns\n",
        "from sklearn.metrics import confusion_matrix, accuracy_score, recall_score, precision_score"
      ],
      "execution_count": 1,
      "outputs": []
    },
    {
      "cell_type": "markdown",
      "metadata": {
        "id": "ghrPayDaZTVI"
      },
      "source": [
        "**Importing the dataset**"
      ]
    },
    {
      "cell_type": "code",
      "metadata": {
        "id": "3GG8QFIZWgNI"
      },
      "source": [
        "dataSet = pd.read_csv('/content/bbc-text.csv')"
      ],
      "execution_count": 2,
      "outputs": []
    },
    {
      "cell_type": "code",
      "metadata": {
        "id": "776XhBlfXiwc",
        "outputId": "0cecfa4c-7ad1-457e-855a-ac9447055f5f",
        "colab": {
          "base_uri": "https://localhost:8080/",
          "height": 376
        }
      },
      "source": [
        "# print out some data\n",
        "print('Data shape (rows, cols): ', dataSet.shape)\n",
        "dataSet.head(10)"
      ],
      "execution_count": 3,
      "outputs": [
        {
          "output_type": "stream",
          "text": [
            "Data shape (rows, cols):  (2225, 2)\n"
          ],
          "name": "stdout"
        },
        {
          "output_type": "execute_result",
          "data": {
            "text/html": [
              "<div>\n",
              "<style scoped>\n",
              "    .dataframe tbody tr th:only-of-type {\n",
              "        vertical-align: middle;\n",
              "    }\n",
              "\n",
              "    .dataframe tbody tr th {\n",
              "        vertical-align: top;\n",
              "    }\n",
              "\n",
              "    .dataframe thead th {\n",
              "        text-align: right;\n",
              "    }\n",
              "</style>\n",
              "<table border=\"1\" class=\"dataframe\">\n",
              "  <thead>\n",
              "    <tr style=\"text-align: right;\">\n",
              "      <th></th>\n",
              "      <th>category</th>\n",
              "      <th>text</th>\n",
              "    </tr>\n",
              "  </thead>\n",
              "  <tbody>\n",
              "    <tr>\n",
              "      <th>0</th>\n",
              "      <td>tech</td>\n",
              "      <td>tv future in the hands of viewers with home th...</td>\n",
              "    </tr>\n",
              "    <tr>\n",
              "      <th>1</th>\n",
              "      <td>business</td>\n",
              "      <td>worldcom boss  left books alone  former worldc...</td>\n",
              "    </tr>\n",
              "    <tr>\n",
              "      <th>2</th>\n",
              "      <td>sport</td>\n",
              "      <td>tigers wary of farrell  gamble  leicester say ...</td>\n",
              "    </tr>\n",
              "    <tr>\n",
              "      <th>3</th>\n",
              "      <td>sport</td>\n",
              "      <td>yeading face newcastle in fa cup premiership s...</td>\n",
              "    </tr>\n",
              "    <tr>\n",
              "      <th>4</th>\n",
              "      <td>entertainment</td>\n",
              "      <td>ocean s twelve raids box office ocean s twelve...</td>\n",
              "    </tr>\n",
              "    <tr>\n",
              "      <th>5</th>\n",
              "      <td>politics</td>\n",
              "      <td>howard hits back at mongrel jibe michael howar...</td>\n",
              "    </tr>\n",
              "    <tr>\n",
              "      <th>6</th>\n",
              "      <td>politics</td>\n",
              "      <td>blair prepares to name poll date tony blair is...</td>\n",
              "    </tr>\n",
              "    <tr>\n",
              "      <th>7</th>\n",
              "      <td>sport</td>\n",
              "      <td>henman hopes ended in dubai third seed tim hen...</td>\n",
              "    </tr>\n",
              "    <tr>\n",
              "      <th>8</th>\n",
              "      <td>sport</td>\n",
              "      <td>wilkinson fit to face edinburgh england captai...</td>\n",
              "    </tr>\n",
              "    <tr>\n",
              "      <th>9</th>\n",
              "      <td>entertainment</td>\n",
              "      <td>last star wars  not for children  the sixth an...</td>\n",
              "    </tr>\n",
              "  </tbody>\n",
              "</table>\n",
              "</div>"
            ],
            "text/plain": [
              "        category                                               text\n",
              "0           tech  tv future in the hands of viewers with home th...\n",
              "1       business  worldcom boss  left books alone  former worldc...\n",
              "2          sport  tigers wary of farrell  gamble  leicester say ...\n",
              "3          sport  yeading face newcastle in fa cup premiership s...\n",
              "4  entertainment  ocean s twelve raids box office ocean s twelve...\n",
              "5       politics  howard hits back at mongrel jibe michael howar...\n",
              "6       politics  blair prepares to name poll date tony blair is...\n",
              "7          sport  henman hopes ended in dubai third seed tim hen...\n",
              "8          sport  wilkinson fit to face edinburgh england captai...\n",
              "9  entertainment  last star wars  not for children  the sixth an..."
            ]
          },
          "metadata": {
            "tags": []
          },
          "execution_count": 3
        }
      ]
    },
    {
      "cell_type": "code",
      "metadata": {
        "id": "B6T_pMuca3CF",
        "outputId": "8ee35784-1bfe-47ab-df8b-75505c734eb1",
        "colab": {
          "base_uri": "https://localhost:8080/",
          "height": 170
        }
      },
      "source": [
        "dataSet.info()"
      ],
      "execution_count": 4,
      "outputs": [
        {
          "output_type": "stream",
          "text": [
            "<class 'pandas.core.frame.DataFrame'>\n",
            "RangeIndex: 2225 entries, 0 to 2224\n",
            "Data columns (total 2 columns):\n",
            " #   Column    Non-Null Count  Dtype \n",
            "---  ------    --------------  ----- \n",
            " 0   category  2225 non-null   object\n",
            " 1   text      2225 non-null   object\n",
            "dtypes: object(2)\n",
            "memory usage: 34.9+ KB\n"
          ],
          "name": "stdout"
        }
      ]
    },
    {
      "cell_type": "code",
      "metadata": {
        "id": "mIWiLkfbVIta",
        "outputId": "1c4f8604-6cb1-448b-bfb7-cfc2db997864",
        "colab": {
          "base_uri": "https://localhost:8080/",
          "height": 561
        }
      },
      "source": [
        "plt.figure(figsize=(10, 8))\n",
        "font = {'weight': 'normal','size': 15}\n",
        "plt.rc('font', **font)\n",
        "plt.xlabel('category')\n",
        "sns.countplot(dataSet['category'].values)\n",
        "plt.show()"
      ],
      "execution_count": 5,
      "outputs": [
        {
          "output_type": "stream",
          "text": [
            "/usr/local/lib/python3.6/dist-packages/seaborn/_decorators.py:43: FutureWarning: Pass the following variable as a keyword arg: x. From version 0.12, the only valid positional argument will be `data`, and passing other arguments without an explicit keyword will result in an error or misinterpretation.\n",
            "  FutureWarning\n"
          ],
          "name": "stderr"
        },
        {
          "output_type": "display_data",
          "data": {
            "image/png": "[encoded data removed]",
            "text/plain": [
              "<Figure size 720x576 with 1 Axes>"
            ]
          },
          "metadata": {
            "tags": [],
            "needs_background": "light"
          }
        }
      ]
    },
    {
      "cell_type": "markdown",
      "metadata": {
        "id": "GlthH3ETbcqB"
      },
      "source": [
        "**Importing NLTK Library**"
      ]
    },
    {
      "cell_type": "code",
      "metadata": {
        "id": "TQXeXHzNXvon",
        "outputId": "e2c065a9-0953-4086-d75f-6ba102c645f5",
        "colab": {
          "base_uri": "https://localhost:8080/",
          "height": 51
        }
      },
      "source": [
        "import re\n",
        "import nltk\n",
        "nltk.download('stopwords')\n",
        "from nltk.corpus import stopwords\n",
        "from nltk.stem.porter import PorterStemmer"
      ],
      "execution_count": 6,
      "outputs": [
        {
          "output_type": "stream",
          "text": [
            "[nltk_data] Downloading package stopwords to /root/nltk_data...\n",
            "[nltk_data]   Package stopwords is already up-to-date!\n"
          ],
          "name": "stdout"
        }
      ]
    },
    {
      "cell_type": "code",
      "metadata": {
        "id": "rRACU8aui8k2"
      },
      "source": [
        "n =  dataSet.shape[0]\n",
        "corpus = []\n",
        "ps = PorterStemmer()\n",
        "\n",
        "for i in range(n):\n",
        "    text = re.sub('[^a-zA-Z]', ' ', dataSet['text'][i].lower())\n",
        "    text = text.split()  # Spliting text into words\n",
        "    text = [ps.stem(word) for word in text if not word in set(stopwords.words('english'))]  # Removing stopwords & # stemming\n",
        "    text = ' '.join(text)  #Joining text\n",
        "    corpus.append(text)"
      ],
      "execution_count": 7,
      "outputs": []
    },
    {
      "cell_type": "markdown",
      "metadata": {
        "id": "E4qAau1KZc6U"
      },
      "source": [
        "**Splitting the dataset into the Training set and Test set**"
      ]
    },
    {
      "cell_type": "code",
      "metadata": {
        "id": "lhoh0u5KjKP0"
      },
      "source": [
        "X = corpus\n",
        "y = dataSet.iloc[:, 0].values\n",
        "\n",
        "from sklearn.model_selection import train_test_split\n",
        "X_train, X_test, y_train, y_test = train_test_split(X, y, test_size=0.2, random_state=0)"
      ],
      "execution_count": 8,
      "outputs": []
    },
    {
      "cell_type": "code",
      "metadata": {
        "id": "S8dnoPLWAOOt"
      },
      "source": [
        "from sklearn.preprocessing import LabelEncoder\n",
        "\n",
        "le = LabelEncoder()\n",
        "y_train = le.fit_transform(y_train)\n",
        "y_test = le.transform(y_test)"
      ],
      "execution_count": 9,
      "outputs": []
    },
    {
      "cell_type": "markdown",
      "metadata": {
        "id": "_5hhmvyQjOjk"
      },
      "source": [
        "**Features Extraction**"
      ]
    },
    {
      "cell_type": "code",
      "metadata": {
        "id": "pPUFMJJmy23c"
      },
      "source": [
        "from sklearn.feature_extraction.text import TfidfVectorizer\n",
        "\n",
        "vectorizer = TfidfVectorizer()\n",
        "X_train = vectorizer.fit_transform(X_train).toarray()\n",
        "X_test = vectorizer.transform(X_test).toarray()"
      ],
      "execution_count": 10,
      "outputs": []
    },
    {
      "cell_type": "code",
      "metadata": {
        "id": "VyiYhJ6JzuS3",
        "outputId": "e64aff5a-5b44-4c18-df15-368080706368",
        "colab": {
          "base_uri": "https://localhost:8080/",
          "height": 1000
        }
      },
      "source": [
        "vectorizer.vocabulary_"
      ],
      "execution_count": 11,
      "outputs": [
        {
          "output_type": "execute_result",
          "data": {
            "text/plain": [
              "{'dominici': 4371,\n",
              " 'back': 1053,\n",
              " 'lacklustr': 8612,\n",
              " 'franc': 5793,\n",
              " 'wing': 17053,\n",
              " 'christoph': 2761,\n",
              " 'say': 13446,\n",
              " 'claim': 2820,\n",
              " 'anoth': 626,\n",
              " 'six': 14096,\n",
              " 'nation': 10452,\n",
              " 'grand': 6429,\n",
              " 'slam': 14136,\n",
              " 'despit': 4022,\n",
              " 'two': 15979,\n",
              " 'win': 17040,\n",
              " 'far': 5306,\n",
              " 'scotland': 13552,\n",
              " 'england': 4901,\n",
              " 'champion': 2595,\n",
              " 'saw': 13442,\n",
              " 'scot': 13551,\n",
              " 'pari': 11320,\n",
              " 'need': 10496,\n",
              " 'self': 13662,\n",
              " 'destruct': 4027,\n",
              " 'last': 8698,\n",
              " 'week': 16867,\n",
              " 'english': 4902,\n",
              " 'play': 11758,\n",
              " 'better': 1486,\n",
              " 'us': 16390,\n",
              " 'lost': 9122,\n",
              " 'wherea': 16941,\n",
              " 'still': 14725,\n",
              " 'race': 12355,\n",
              " 'said': 13309,\n",
              " 'know': 8490,\n",
              " 'display': 4256,\n",
              " 'perfect': 11528,\n",
              " 'along': 426,\n",
              " 'ireland': 7861,\n",
              " 'wale': 16724,\n",
              " 'remain': 12736,\n",
              " 'unbeaten': 16064,\n",
              " 'round': 13163,\n",
              " 'year': 17298,\n",
              " 'rb': 12499,\n",
              " 'celtic': 2528,\n",
              " 'impress': 7519,\n",
              " 'rugbi': 13215,\n",
              " 'take': 15190,\n",
              " 'stade': 14583,\n",
              " 'de': 3773,\n",
              " 'februari': 5376,\n",
              " 'dublin': 4525,\n",
              " 'march': 9452,\n",
              " 'although': 441,\n",
              " 'yet': 17314,\n",
              " 'click': 2890,\n",
              " 'hard': 6746,\n",
              " 'way': 16822,\n",
              " 'long': 9090,\n",
              " 'scrum': 13579,\n",
              " 'half': 6660,\n",
              " 'dimitri': 4137,\n",
              " 'yachvili': 17263,\n",
              " 'continu': 3262,\n",
              " 'goalkick': 6313,\n",
              " 'form': 5739,\n",
              " 'effici': 4701,\n",
              " 'kicker': 8403,\n",
              " 'reli': 12719,\n",
              " 'solid': 14318,\n",
              " 'defenc': 3865,\n",
              " 'team': 15300,\n",
              " 'live': 9024,\n",
              " 'achiev': 106,\n",
              " 'someth': 14335,\n",
              " 'ad': 138,\n",
              " 'start': 14642,\n",
              " 'competit': 3090,\n",
              " 'winner': 17063,\n",
              " 'would': 17188,\n",
              " 'clearer': 2868,\n",
              " 'third': 15489,\n",
              " 'match': 9563,\n",
              " 'exactli': 5127,\n",
              " 'go': 6309,\n",
              " 'happen': 6734,\n",
              " 'coach': 2947,\n",
              " 'bernard': 1454,\n",
              " 'laport': 8682,\n",
              " 'announc': 614,\n",
              " 'line': 8976,\n",
              " 'next': 10586,\n",
              " 'tuesday': 15913,\n",
              " 'jimmi': 8091,\n",
              " 'marlu': 9499,\n",
              " 'definit': 3876,\n",
              " 'knee': 8478,\n",
              " 'injuri': 7681,\n",
              " 'sustain': 15059,\n",
              " 'twickenham': 15971,\n",
              " 'like': 8943,\n",
              " 'sidelin': 13990,\n",
              " 'rest': 12845,\n",
              " 'tournament': 15721,\n",
              " 'inspir': 7721,\n",
              " 'flanker': 5588,\n",
              " 'serg': 13716,\n",
              " 'betsen': 1484,\n",
              " 'doubt': 4415,\n",
              " 'thigh': 15480,\n",
              " 'number': 10786,\n",
              " 'eight': 4719,\n",
              " 'imanol': 7468,\n",
              " 'harinordoquy': 6764,\n",
              " 'shaken': 13791,\n",
              " 'shoulder': 13938,\n",
              " 'centr': 2541,\n",
              " 'yannick': 17279,\n",
              " 'jauzion': 8015,\n",
              " 'winger': 17054,\n",
              " 'aurelien': 957,\n",
              " 'rougeri': 13158,\n",
              " 'content': 3253,\n",
              " 'brive': 1998,\n",
              " 'julien': 8215,\n",
              " 'laharragu': 8630,\n",
              " 'receiv': 12559,\n",
              " 'first': 5548,\n",
              " 'call': 2258,\n",
              " 'replac': 12793,\n",
              " 'pepito': 11510,\n",
              " 'elhorga': 4767,\n",
              " 'id': 7391,\n",
              " 'theft': 15455,\n",
              " 'surg': 15026,\n",
              " 'hit': 7067,\n",
              " 'consum': 3239,\n",
              " 'almost': 423,\n",
              " 'quarter': 12299,\n",
              " 'million': 9952,\n",
              " 'complain': 3095,\n",
              " 'target': 15248,\n",
              " 'ident': 7399,\n",
              " 'offici': 10877,\n",
              " 'figur': 5481,\n",
              " 'suggest': 14938,\n",
              " 'feder': 5379,\n",
              " 'trade': 15749,\n",
              " 'commiss': 3059,\n",
              " 'five': 5566,\n",
              " 'report': 12798,\n",
              " 'concern': 3131,\n",
              " 'fraud': 5819,\n",
              " 'occur': 10845,\n",
              " 'crimin': 3493,\n",
              " 'use': 16397,\n",
              " 'someon': 14333,\n",
              " 'els': 4792,\n",
              " 'person': 11555,\n",
              " 'inform': 7656,\n",
              " 'steal': 14670,\n",
              " 'credit': 3473,\n",
              " 'commit': 3061,\n",
              " 'crime': 3492,\n",
              " 'internet': 7780,\n",
              " 'auction': 940,\n",
              " 'second': 13623,\n",
              " 'biggest': 1527,\n",
              " 'sourc': 14377,\n",
              " 'complaint': 3096,\n",
              " 'compris': 3113,\n",
              " 'total': 15699,\n",
              " 'cost': 3368,\n",
              " 'mark': 9488,\n",
              " 'fifth': 5474,\n",
              " 'row': 13175,\n",
              " 'top': 15668,\n",
              " 'tabl': 15166,\n",
              " 'slice': 14166,\n",
              " 'case': 2429,\n",
              " 'abus': 64,\n",
              " 'peopl': 11508,\n",
              " 'misus': 10061,\n",
              " 'new': 10562,\n",
              " 'card': 2360,\n",
              " 'loan': 9053,\n",
              " 'come': 3040,\n",
              " 'fals': 5283,\n",
              " 'exist': 5160,\n",
              " 'came': 2278,\n",
              " 'attempt': 925,\n",
              " 'rip': 13006,\n",
              " 'bank': 1163,\n",
              " 'account': 93,\n",
              " 'defraud': 3880,\n",
              " 'employ': 4850,\n",
              " 'outsid': 11106,\n",
              " 'field': 5465,\n",
              " 'near': 10480,\n",
              " 'relat': 12710,\n",
              " 'among': 514,\n",
              " 'failur': 5258,\n",
              " 'seller': 13670,\n",
              " 'deliv': 3913,\n",
              " 'suppli': 15005,\n",
              " 'sub': 14878,\n",
              " 'standard': 14615,\n",
              " 'good': 6354,\n",
              " 'common': 3066,\n",
              " 'woe': 17110,\n",
              " 'catalogu': 2454,\n",
              " 'home': 7138,\n",
              " 'shop': 13923,\n",
              " 'servic': 13734,\n",
              " 'comput': 3120,\n",
              " 'includ': 7564,\n",
              " 'spywar': 14553,\n",
              " 'found': 5768,\n",
              " 'pc': 11434,\n",
              " 'undisclos': 16148,\n",
              " 'charg': 2625,\n",
              " 'websit': 16859,\n",
              " 'amount': 519,\n",
              " 'blair': 1612,\n",
              " 'press': 12023,\n",
              " 'climat': 2897,\n",
              " 'toni': 15655,\n",
              " 'cut': 3625,\n",
              " 'greenhous': 6483,\n",
              " 'gase': 6045,\n",
              " 'unwilling': 16336,\n",
              " 'sign': 14009,\n",
              " 'kyoto': 8598,\n",
              " 'protocol': 12169,\n",
              " 'down': 4427,\n",
              " 'street': 14811,\n",
              " 'indic': 7598,\n",
              " 'confirm': 3160,\n",
              " 'chang': 2603,\n",
              " 'discuss': 4217,\n",
              " 'influenti': 7651,\n",
              " 'senat': 13681,\n",
              " 'john': 8127,\n",
              " 'mccain': 9643,\n",
              " 'recent': 12560,\n",
              " 'visit': 16633,\n",
              " 'mr': 10274,\n",
              " 'issu': 7917,\n",
              " 'prime': 12059,\n",
              " 'minist': 9988,\n",
              " 'want': 16754,\n",
              " 'progress': 12120,\n",
              " 'uk': 16012,\n",
              " 'presid': 12019,\n",
              " 'eu': 5056,\n",
              " 'spokesman': 14504,\n",
              " 'consid': 3215,\n",
              " 'friendli': 5870,\n",
              " 'treati': 15811,\n",
              " 'accord': 90,\n",
              " 'time': 15575,\n",
              " 'leader': 8758,\n",
              " 'end': 4872,\n",
              " 'isol': 7910,\n",
              " 'lite': 9012,\n",
              " 'agreement': 278,\n",
              " 'scale': 13453,\n",
              " 'natur': 10459,\n",
              " 'threat': 15513,\n",
              " 'idea': 7394,\n",
              " 'believ': 1381,\n",
              " 'unit': 16219,\n",
              " 'state': 14649,\n",
              " 'refus': 12651,\n",
              " 'emiss': 4835,\n",
              " 'undermin': 16118,\n",
              " 'countri': 3400,\n",
              " 'resolv': 12835,\n",
              " 'carbon': 2359,\n",
              " 'dioxid': 4154,\n",
              " 'product': 12106,\n",
              " 'aim': 299,\n",
              " 'brand': 1901,\n",
              " 'polit': 11841,\n",
              " 'motiv': 10226,\n",
              " 'base': 1236,\n",
              " 'scienc': 13529,\n",
              " 'bush': 2174,\n",
              " 'advis': 205,\n",
              " 'repeatedli': 12789,\n",
              " 'deni': 3952,\n",
              " 'global': 6276,\n",
              " 'warm': 16775,\n",
              " 'place': 11730,\n",
              " 'europ': 5066,\n",
              " 'disput': 4261,\n",
              " 'also': 435,\n",
              " 'signal': 14010,\n",
              " 'ahead': 287,\n",
              " 'talk': 15202,\n",
              " 'longer': 9092,\n",
              " 'term': 15387,\n",
              " 'action': 127,\n",
              " 'involv': 7828,\n",
              " 'develop': 4048,\n",
              " 'establish': 5033,\n",
              " 'intern': 7775,\n",
              " 'programm': 12119,\n",
              " 'technolog': 15312,\n",
              " 'renew': 12768,\n",
              " 'energi': 4891,\n",
              " 'reduct': 12621,\n",
              " 'appar': 684,\n",
              " 'littl': 9020,\n",
              " 'prospect': 12155,\n",
              " 'america': 489,\n",
              " 'agre': 276,\n",
              " 'could': 3384,\n",
              " 'provok': 12184,\n",
              " 'environment': 4951,\n",
              " 'campaign': 2289,\n",
              " 'alreadi': 433,\n",
              " 'angri': 592,\n",
              " 'lack': 8609,\n",
              " 'left': 8796,\n",
              " 'blush': 1698,\n",
              " 'wednesday': 16864,\n",
              " 'emerg': 4823,\n",
              " 'manifesto': 9409,\n",
              " 'ga': 5956,\n",
              " 'level': 8867,\n",
              " 'set': 13738,\n",
              " 'miss': 10044,\n",
              " 'realli': 12522,\n",
              " 'divid': 4304,\n",
              " 'parti': 11345,\n",
              " 'gap': 6016,\n",
              " 'labour': 8606,\n",
              " 'tori': 15681,\n",
              " 'nowaday': 10766,\n",
              " 'one': 10940,\n",
              " 'starbuck': 14634,\n",
              " 'ryman': 13263,\n",
              " 'small': 14206,\n",
              " 'greek': 6476,\n",
              " 'cafe': 2235,\n",
              " 'complet': 3098,\n",
              " 'move': 10254,\n",
              " 'headquart': 6862,\n",
              " 'creat': 3466,\n",
              " 'elect': 4744,\n",
              " 'hub': 7261,\n",
              " 'three': 15516,\n",
              " 'door': 4393,\n",
              " 'away': 1017,\n",
              " 'victoria': 16569,\n",
              " 'road': 13036,\n",
              " 'make': 9342,\n",
              " 'thing': 15483,\n",
              " 'easier': 4622,\n",
              " 'crack': 3438,\n",
              " 'dawn': 3758,\n",
              " 'confer': 3153,\n",
              " 'kick': 8400,\n",
              " 'unlik': 16231,\n",
              " 'colleagu': 3006,\n",
              " 'taxi': 15284,\n",
              " 'gun': 6594,\n",
              " 'engin': 4900,\n",
              " 'buy': 2196,\n",
              " 'scooter': 13541,\n",
              " 'get': 6160,\n",
              " 'tightli': 15570,\n",
              " 'timet': 15581,\n",
              " 'event': 5093,\n",
              " 'intent': 7755,\n",
              " 'purpos': 12246,\n",
              " 'appear': 688,\n",
              " 'gener': 6106,\n",
              " 'certainli': 2556,\n",
              " 'host': 7207,\n",
              " 'co': 2946,\n",
              " 'ordin': 11001,\n",
              " 'alan': 335,\n",
              " 'milburn': 9937,\n",
              " 'rather': 12469,\n",
              " 'compact': 3077,\n",
              " 'room': 13127,\n",
              " 'smell': 14220,\n",
              " 'carpet': 2398,\n",
              " 'garish': 6031,\n",
              " 'coffe': 2976,\n",
              " 'mug': 10293,\n",
              " 'unstain': 16306,\n",
              " 'hallmark': 6670,\n",
              " 'welcom': 16888,\n",
              " 'unremittingli': 16277,\n",
              " 'media': 9738,\n",
              " 'bet': 1476,\n",
              " 'check': 2657,\n",
              " 'gordon': 6374,\n",
              " 'brown': 2041,\n",
              " 'work': 17158,\n",
              " 'pension': 11501,\n",
              " 'secretari': 13628,\n",
              " 'johnson': 8129,\n",
              " 'jane': 7991,\n",
              " 'kennedi': 8349,\n",
              " 'went': 16902,\n",
              " 'tear': 15302,\n",
              " 'plan': 11737,\n",
              " 'scrap': 13561,\n",
              " 'deal': 3785,\n",
              " 'welfar': 16889,\n",
              " 'scheme': 13489,\n",
              " 'lead': 8756,\n",
              " 'increas': 7577,\n",
              " 'unemploy': 16159,\n",
              " 'ridicul': 12972,\n",
              " 'made': 9278,\n",
              " 'monday': 10134,\n",
              " 'michael': 9889,\n",
              " 'howard': 7240,\n",
              " 'save': 13436,\n",
              " 'billion': 1540,\n",
              " 'wast': 16798,\n",
              " 'ineffici': 7622,\n",
              " 'spend': 14468,\n",
              " 'public': 12210,\n",
              " 'offer': 10875,\n",
              " 'tax': 15282,\n",
              " 'worth': 17183,\n",
              " 'understand': 16131,\n",
              " 'perhap': 11531,\n",
              " 'must': 10356,\n",
              " 'squeez': 14562,\n",
              " 'extra': 5207,\n",
              " 'detail': 4029,\n",
              " 'studi': 14858,\n",
              " 'batter': 1268,\n",
              " 'within': 17094,\n",
              " 'inch': 7559,\n",
              " 'iran': 7854,\n",
              " 'budget': 2096,\n",
              " 'seek': 13641,\n",
              " 'sell': 13667,\n",
              " 'off': 10870,\n",
              " 'mohammad': 10112,\n",
              " 'khatami': 8389,\n",
              " 'unveil': 16328,\n",
              " 'design': 4011,\n",
              " 'expand': 5165,\n",
              " 'loosen': 9107,\n",
              " 'islam': 7898,\n",
              " 'republ': 12809,\n",
              " 'depend': 3970,\n",
              " 'oil': 10897,\n",
              " 'fiscal': 5552,\n",
              " 'corpor': 3342,\n",
              " 'hold': 7115,\n",
              " 'august': 951,\n",
              " 'opposit': 10979,\n",
              " 'member': 9790,\n",
              " 'parliament': 11329,\n",
              " 'attack': 922,\n",
              " 'previou': 12043,\n",
              " 'privatis': 12080,\n",
              " 'block': 1659,\n",
              " 'may': 9612,\n",
              " 'oust': 11061,\n",
              " 'mani': 9406,\n",
              " 'support': 15007,\n",
              " 'favour': 5354,\n",
              " 'religi': 12725,\n",
              " 'conserv': 3212,\n",
              " 'late': 8700,\n",
              " 'law': 8735,\n",
              " 'give': 6237,\n",
              " 'veto': 16539,\n",
              " 'foreign': 5719,\n",
              " 'invest': 7818,\n",
              " 'rule': 13221,\n",
              " 'respons': 12843,\n",
              " 'telecom': 15334,\n",
              " 'airport': 310,\n",
              " 'project': 12122,\n",
              " 'turkish': 15941,\n",
              " 'compani': 3078,\n",
              " 'hardlin': 6756,\n",
              " 'accus': 102,\n",
              " 'busi': 2176,\n",
              " 'israel': 7916,\n",
              " 'expedi': 5169,\n",
              " 'council': 3385,\n",
              " 'ultim': 16022,\n",
              " 'decis': 3827,\n",
              " 'maker': 9346,\n",
              " 'bless': 1642,\n",
              " 'polici': 11837,\n",
              " 'stake': 14597,\n",
              " 'sector': 13632,\n",
              " 'protect': 12160,\n",
              " 'constitut': 3233,\n",
              " 'transport': 15789,\n",
              " 'obstruct': 10834,\n",
              " 'hope': 7174,\n",
              " 'modestli': 10102,\n",
              " 'reduc': 12620,\n",
              " 'govern': 6399,\n",
              " 'relianc': 12721,\n",
              " 'revenu': 12897,\n",
              " 'address': 155,\n",
              " 'majli': 9337,\n",
              " 'predict': 11986,\n",
              " 'econom': 4661,\n",
              " 'growth': 6545,\n",
              " 'current': 3605,\n",
              " 'trillion': 15846,\n",
              " 'rial': 12941,\n",
              " 'bn': 1706,\n",
              " 'taxat': 15283,\n",
              " 'rise': 13012,\n",
              " 'expect': 5168,\n",
              " 'contrast': 3272,\n",
              " 'fall': 5275,\n",
              " 'expenditur': 5171,\n",
              " 'subsidi': 14897,\n",
              " 'bread': 1920,\n",
              " 'petrol': 11597,\n",
              " 'manoeuvr': 9418,\n",
              " 'hagu': 6643,\n",
              " 'given': 6239,\n",
              " 'pm': 11799,\n",
              " 'ambit': 475,\n",
              " 'former': 5743,\n",
              " 'william': 17023,\n",
              " 'stand': 14614,\n",
              " 'leadership': 8759,\n",
              " 'told': 15636,\n",
              " 'daili': 3667,\n",
              " 'telegraph': 15337,\n",
              " 'find': 5505,\n",
              " 'life': 8925,\n",
              " 'domin': 4368,\n",
              " 'bore': 1804,\n",
              " 'unfulfil': 16191,\n",
              " 'step': 14692,\n",
              " 'defeat': 3862,\n",
              " 'return': 12885,\n",
              " 'front': 5883,\n",
              " 'bench': 1403,\n",
              " 'paper': 11290,\n",
              " 'mp': 10268,\n",
              " 'richmond': 12955,\n",
              " 'north': 10721,\n",
              " 'york': 17333,\n",
              " 'famili': 5288,\n",
              " 'wife': 16997,\n",
              " 'ffion': 5446,\n",
              " 'publish': 12214,\n",
              " 'biographi': 1557,\n",
              " 'pitt': 11720,\n",
              " 'younger': 17340,\n",
              " 'write': 17210,\n",
              " 'book': 1779,\n",
              " 'speech': 14455,\n",
              " 'newspap': 10583,\n",
              " 'whether': 16946,\n",
              " 'ever': 5095,\n",
              " 'rush': 13242,\n",
              " 'ask': 858,\n",
              " 'repli': 12795,\n",
              " 'determin': 4038,\n",
              " 'stay': 14665,\n",
              " 'central': 2542,\n",
              " 'role': 13097,\n",
              " 'disappoint': 4179,\n",
              " 'senior': 13688,\n",
              " 'tim': 15573,\n",
              " 'collin': 3013,\n",
              " 'shadow': 13781,\n",
              " 'educ': 4689,\n",
              " 'huge': 7270,\n",
              " 'boost': 1794,\n",
              " 'becam': 1322,\n",
              " 'feel': 5386,\n",
              " 'fortun': 5758,\n",
              " 'age': 251,\n",
              " 'cram': 3445,\n",
              " 'entir': 4936,\n",
              " 'career': 2368,\n",
              " 'cabinet': 2221,\n",
              " 'branch': 1900,\n",
              " 'liber': 8892,\n",
              " 'misjudg': 10035,\n",
              " 'mayb': 9614,\n",
              " 'driven': 4492,\n",
              " 'thought': 15510,\n",
              " 'ferguson': 5419,\n",
              " 'fear': 5368,\n",
              " 'milan': 9935,\n",
              " 'edg': 4672,\n",
              " 'manchest': 9389,\n",
              " 'manag': 9387,\n",
              " 'sir': 14082,\n",
              " 'alex': 363,\n",
              " 'side': 13985,\n",
              " 'task': 15258,\n",
              " 'ac': 68,\n",
              " 'absenc': 52,\n",
              " 'andriy': 571,\n",
              " 'shevchenko': 13877,\n",
              " 'talisman': 15201,\n",
              " 'european': 5068,\n",
              " 'footbal': 5698,\n",
              " 'leagu': 8763,\n",
              " 'leg': 8798,\n",
              " 'tie': 15559,\n",
              " 'fractur': 5784,\n",
              " 'cheekbon': 2660,\n",
              " 'loss': 9120,\n",
              " 'wors': 17179,\n",
              " 'qualiti': 12292,\n",
              " 'bring': 1983,\n",
              " 'much': 10286,\n",
              " 'think': 15484,\n",
              " 'tomorrow': 15649,\n",
              " 'night': 10628,\n",
              " 'repres': 12801,\n",
              " 'formid': 5745,\n",
              " 'challeng': 2590,\n",
              " 'defend': 3866,\n",
              " 'rui': 13218,\n",
              " 'costa': 3369,\n",
              " 'kaka': 8258,\n",
              " 'forward': 5761,\n",
              " 'serginho': 13719,\n",
              " 'jon': 8147,\n",
              " 'dahl': 3665,\n",
              " 'tomasson': 15644,\n",
              " 'goalscor': 6318,\n",
              " 'ruud': 13256,\n",
              " 'van': 16451,\n",
              " 'nistelrooy': 10667,\n",
              " 'fit': 5561,\n",
              " 'admit': 174,\n",
              " 'unsur': 16315,\n",
              " 'dutchman': 4575,\n",
              " 'month': 10167,\n",
              " 'best': 1473,\n",
              " 'striker': 14826,\n",
              " 'judg': 8195,\n",
              " 'struggl': 14848,\n",
              " 'earli': 4608,\n",
              " 'pace': 11204,\n",
              " 'abil': 36,\n",
              " 'put': 12256,\n",
              " 'big': 1525,\n",
              " 'shout': 13939,\n",
              " 'major': 9338,\n",
              " 'though': 15509,\n",
              " 'confid': 3156,\n",
              " 'young': 17339,\n",
              " 'player': 11763,\n",
              " 'particularli': 11351,\n",
              " 'wayn': 16824,\n",
              " 'rooney': 13128,\n",
              " 'cristiano': 3504,\n",
              " 'ronaldo': 13121,\n",
              " 'opportun': 10976,\n",
              " 'cup': 3593,\n",
              " 'question': 12311,\n",
              " 'declar': 3832,\n",
              " 'matur': 9593,\n",
              " 'see': 13638,\n",
              " 'everi': 5101,\n",
              " 'roy': 13184,\n",
              " 'kean': 8317,\n",
              " 'paul': 11404,\n",
              " 'schole': 13505,\n",
              " 'ryan': 13260,\n",
              " 'gigg': 6200,\n",
              " 'fantast': 5304,\n",
              " 'chanc': 2598,\n",
              " 'view': 16582,\n",
              " 'share': 13820,\n",
              " 'past': 11375,\n",
              " 'great': 6466,\n",
              " 'soon': 14350,\n",
              " 'knew': 8480,\n",
              " 'got': 6386,\n",
              " 'excit': 5142,\n",
              " 'look': 9099,\n",
              " 'draw': 4467,\n",
              " 'anyon': 659,\n",
              " 'trophi': 15867,\n",
              " 'final': 5498,\n",
              " 'turkey': 15940,\n",
              " 'carlo': 2384,\n",
              " 'ancelotti': 551,\n",
              " 'venu': 16504,\n",
              " 'lift': 8934,\n",
              " 'prestigi': 12027,\n",
              " 'club': 2928,\n",
              " 'titl': 15608,\n",
              " 'season': 13609,\n",
              " 'ago': 270,\n",
              " 'beat': 1311,\n",
              " 'juventu': 8244,\n",
              " 'penalti': 11485,\n",
              " 'shootout': 13922,\n",
              " 'old': 10908,\n",
              " 'trafford': 15758,\n",
              " 'happi': 6735,\n",
              " 'awar': 1015,\n",
              " 'pose': 11904,\n",
              " 'glori': 6285,\n",
              " 'fundament': 5923,\n",
              " 'allow': 415,\n",
              " 'control': 3280,\n",
              " 'game': 5998,\n",
              " 'adapt': 144,\n",
              " 'lot': 9124,\n",
              " 'sure': 15020,\n",
              " 'stop': 14763,\n",
              " 'newcastl': 10567,\n",
              " 'join': 8133,\n",
              " 'morient': 10194,\n",
              " 'real': 12515,\n",
              " 'madrid': 9284,\n",
              " 'fernando': 5421,\n",
              " 'scupper': 13588,\n",
              " 'liverpool': 9030,\n",
              " 'bid': 1521,\n",
              " 'snap': 14246,\n",
              " 'spanish': 14419,\n",
              " 'echo': 4654,\n",
              " 'anfield': 576,\n",
              " 'boss': 1821,\n",
              " 'rafa': 12380,\n",
              " 'benitez': 1416,\n",
              " 'avoid': 1009,\n",
              " 'war': 16756,\n",
              " 'instead': 7730,\n",
              " 'turn': 15945,\n",
              " 'attent': 928,\n",
              " 'nicola': 10611,\n",
              " 'anelka': 573,\n",
              " 'monaco': 10130,\n",
              " 'highest': 7021,\n",
              " 'will': 17018,\n",
              " 'bow': 1853,\n",
              " 'pleas': 11771,\n",
              " 'statur': 14658,\n",
              " 'situat': 14093,\n",
              " 'sort': 14365,\n",
              " 'sensibl': 13692,\n",
              " 'posit': 11905,\n",
              " 'elsewher': 4794,\n",
              " 'interest': 7764,\n",
              " 'everyon': 5108,\n",
              " 'realist': 12519,\n",
              " 'spoken': 14503,\n",
              " 'alway': 452,\n",
              " 'appreci': 705,\n",
              " 'reluct': 12733,\n",
              " 'pledg': 11775,\n",
              " 'futur': 5950,\n",
              " 'previous': 12044,\n",
              " 'gerard': 6142,\n",
              " 'houllier': 7226,\n",
              " 'seal': 13599,\n",
              " 'perman': 11539,\n",
              " 'switch': 15117,\n",
              " 'citi': 2806,\n",
              " 'korean': 8527,\n",
              " 'firm': 5545,\n",
              " 'rescu': 12819,\n",
              " 'south': 14379,\n",
              " 'korea': 8526,\n",
              " 'largest': 8689,\n",
              " 'avert': 1002,\n",
              " 'liquid': 8999,\n",
              " 'follow': 5682,\n",
              " 'bail': 1100,\n",
              " 'lg': 8880,\n",
              " 'threaten': 15514,\n",
              " 'collaps': 3002,\n",
              " 'debt': 3803,\n",
              " 'creditor': 3474,\n",
              " 'parent': 11318,\n",
              " 'consortium': 3223,\n",
              " 'group': 6539,\n",
              " 'own': 11186,\n",
              " 'conglomer': 3172,\n",
              " 'stabilis': 14579,\n",
              " 'seven': 13747,\n",
              " 'custom': 3622,\n",
              " 'sent': 13695,\n",
              " 'shockwav': 13912,\n",
              " 'economi': 4662,\n",
              " 'tri': 15830,\n",
              " 'secur': 13634,\n",
              " 'sever': 13751,\n",
              " 'took': 15661,\n",
              " 'januari': 8000,\n",
              " 'bankruptci': 1169,\n",
              " 'delist': 3912,\n",
              " 'trigger': 15845,\n",
              " 'massiv': 9551,\n",
              " 'redempt': 12602,\n",
              " 'forc': 5708,\n",
              " 'unless': 16229,\n",
              " 'reach': 12503,\n",
              " 'fund': 5922,\n",
              " 'financi': 5503,\n",
              " 'aid': 293,\n",
              " 'laah': 8600,\n",
              " 'chong': 2734,\n",
              " 'gyu': 6624,\n",
              " 'execut': 5147,\n",
              " 'director': 4165,\n",
              " 'convert': 3287,\n",
              " 'equiti': 4982,\n",
              " 'capit': 2339,\n",
              " 'inject': 7678,\n",
              " 'goal': 6311,\n",
              " 'met': 9856,\n",
              " 'david': 3753,\n",
              " 'kim': 8426,\n",
              " 'analyst': 542,\n",
              " 'sejong': 13657,\n",
              " 'reuter': 12890,\n",
              " 'market': 9491,\n",
              " 'slowli': 14196,\n",
              " 'recov': 12591,\n",
              " 'crisi': 3498,\n",
              " 'bubbl': 2081,\n",
              " 'burst': 2168,\n",
              " 'fell': 5398,\n",
              " 'behind': 1362,\n",
              " 'repay': 12786,\n",
              " 'profit': 12113,\n",
              " 'septemb': 13705,\n",
              " 'thrown': 15532,\n",
              " 'stock': 14742,\n",
              " 'exchang': 5140,\n",
              " 'exce': 5135,\n",
              " 'asset': 872,\n",
              " 'run': 13227,\n",
              " 'mobil': 10087,\n",
              " 'pocket': 11808,\n",
              " 'offic': 10876,\n",
              " 'launch': 8716,\n",
              " 'latest': 8702,\n",
              " 'devic': 4050,\n",
              " 'built': 2113,\n",
              " 'wi': 16983,\n",
              " 'fi': 5448,\n",
              " 'high': 7018,\n",
              " 'speed': 14458,\n",
              " 'wireless': 17075,\n",
              " 'net': 10536,\n",
              " 'access': 77,\n",
              " 'user': 16400,\n",
              " 'network': 10545,\n",
              " 'avail': 995,\n",
              " 'transfer': 15777,\n",
              " 'data': 3739,\n",
              " 'select': 13660,\n",
              " 'fastest': 5336,\n",
              " 'mda': 9716,\n",
              " 'iv': 7934,\n",
              " 'releas': 12715,\n",
              " 'summer': 14956,\n",
              " 'upgrad': 16350,\n",
              " 'smartphon': 14213,\n",
              " 'iii': 7436,\n",
              " 'reflect': 12638,\n",
              " 'push': 12255,\n",
              " 'mini': 9978,\n",
              " 'laptop': 8684,\n",
              " 'swivel': 15119,\n",
              " 'angl': 583,\n",
              " 'convent': 3284,\n",
              " 'clamshel': 2828,\n",
              " 'phone': 11641,\n",
              " 'microsoft': 9900,\n",
              " 'camera': 2281,\n",
              " 'qwerti': 12347,\n",
              " 'keyboard': 8376,\n",
              " 'similar': 14034,\n",
              " 'model': 10096,\n",
              " 'motorola': 10238,\n",
              " 'mpx': 10273,\n",
              " 'worker': 17160,\n",
              " 'mean': 9721,\n",
              " 'signific': 14013,\n",
              " 'travel': 15797,\n",
              " 'rene': 12764,\n",
              " 'obermann': 10816,\n",
              " 'chief': 2700,\n",
              " 'gsm': 6552,\n",
              " 'show': 13941,\n",
              " 'cann': 2313,\n",
              " 'sold': 14311,\n",
              " 'demand': 3928,\n",
              " 'shape': 13817,\n",
              " 'blackberri': 1600,\n",
              " 'rang': 12435,\n",
              " 'grow': 6542,\n",
              " 'connect': 3189,\n",
              " 'introduc': 7800,\n",
              " 'flat': 5593,\n",
              " 'fee': 5382,\n",
              " 'tariff': 15249,\n",
              " 'hotspot': 7222,\n",
              " 'nearli': 10483,\n",
              " 'doubl': 4413,\n",
              " 'instal': 7723,\n",
              " 'certain': 2555,\n",
              " 'train': 15765,\n",
              " 'london': 9085,\n",
              " 'brighton': 1975,\n",
              " 'provid': 12176,\n",
              " 'commut': 3076,\n",
              " 'fast': 5334,\n",
              " 'southern': 14386,\n",
              " 'nomad': 10690,\n",
              " 'digit': 4117,\n",
              " 'begin': 1355,\n",
              " 'free': 5833,\n",
              " 'trial': 15831,\n",
              " 'rout': 13169,\n",
              " 'april': 715,\n",
              " 'full': 5913,\n",
              " 'point': 11817,\n",
              " 'wimax': 17036,\n",
              " 'faster': 5335,\n",
              " 'alongsid': 427,\n",
              " 'track': 15742,\n",
              " 'brian': 1949,\n",
              " 'mcbride': 9638,\n",
              " 'trend': 15821,\n",
              " 'mail': 9324,\n",
              " 'abl': 39,\n",
              " 'maintain': 9333,\n",
              " 'constant': 3228,\n",
              " 'session': 13737,\n",
              " 'journey': 8174,\n",
              " 'gner': 6306,\n",
              " 'industri': 7618,\n",
              " 'bear': 1303,\n",
              " 'fruit': 5896,\n",
              " 'thousand': 15511,\n",
              " 'expert': 5176,\n",
              " 'gather': 6054,\n",
              " 'chelsea': 2669,\n",
              " 'jame': 7982,\n",
              " 'heroic': 6978,\n",
              " 'brave': 1911,\n",
              " 'defens': 3867,\n",
              " 'led': 8787,\n",
              " 'keeper': 8330,\n",
              " 'help': 6937,\n",
              " 'quiet': 12322,\n",
              " 'open': 10965,\n",
              " 'damien': 3690,\n",
              " 'duff': 4535,\n",
              " 'jiri': 8094,\n",
              " 'jarosik': 8007,\n",
              " 'mateja': 9567,\n",
              " 'kezman': 8383,\n",
              " 'bosvelt': 1824,\n",
              " 'clear': 2866,\n",
              " 'galla': 5982,\n",
              " 'header': 6856,\n",
              " 'robbi': 13049,\n",
              " 'fowler': 5777,\n",
              " 'score': 13544,\n",
              " 'visitor': 16634,\n",
              " 'wide': 16986,\n",
              " 'possess': 11906,\n",
              " 'kept': 8363,\n",
              " 'frank': 5806,\n",
              " 'lampard': 8649,\n",
              " 'superbl': 14974,\n",
              " 'tip': 15595,\n",
              " 'volley': 16670,\n",
              " 'proud': 12172,\n",
              " 'record': 12588,\n",
              " 'domest': 4366,\n",
              " 'alarm': 336,\n",
              " 'minut': 9999,\n",
              " 'depriv': 3982,\n",
              " 'arjen': 774,\n",
              " ...}"
            ]
          },
          "metadata": {
            "tags": []
          },
          "execution_count": 11
        }
      ]
    },
    {
      "cell_type": "code",
      "metadata": {
        "id": "rrnb6s_w20lF",
        "outputId": "b1a147e8-baa3-4c60-d4e7-42a18f647904",
        "colab": {
          "base_uri": "https://localhost:8080/",
          "height": 34
        }
      },
      "source": [
        "X_train.shape"
      ],
      "execution_count": 12,
      "outputs": [
        {
          "output_type": "execute_result",
          "data": {
            "text/plain": [
              "(1780, 17427)"
            ]
          },
          "metadata": {
            "tags": []
          },
          "execution_count": 12
        }
      ]
    },
    {
      "cell_type": "code",
      "metadata": {
        "id": "oSoBP9zM0o38",
        "outputId": "25b83e4e-cd14-4b52-df51-84b608d4c50d",
        "colab": {
          "base_uri": "https://localhost:8080/",
          "height": 527
        }
      },
      "source": [
        "X_train[0][:150]"
      ],
      "execution_count": 13,
      "outputs": [
        {
          "output_type": "execute_result",
          "data": {
            "text/plain": [
              "array([0.        , 0.        , 0.        , 0.        , 0.        ,\n",
              "       0.        , 0.        , 0.        , 0.        , 0.        ,\n",
              "       0.        , 0.        , 0.        , 0.        , 0.        ,\n",
              "       0.        , 0.        , 0.        , 0.        , 0.        ,\n",
              "       0.        , 0.        , 0.        , 0.        , 0.        ,\n",
              "       0.        , 0.        , 0.        , 0.        , 0.        ,\n",
              "       0.        , 0.        , 0.        , 0.        , 0.        ,\n",
              "       0.        , 0.        , 0.        , 0.        , 0.        ,\n",
              "       0.        , 0.        , 0.        , 0.        , 0.        ,\n",
              "       0.        , 0.        , 0.        , 0.        , 0.        ,\n",
              "       0.        , 0.        , 0.        , 0.        , 0.        ,\n",
              "       0.        , 0.        , 0.        , 0.        , 0.        ,\n",
              "       0.        , 0.        , 0.        , 0.        , 0.        ,\n",
              "       0.        , 0.        , 0.        , 0.        , 0.        ,\n",
              "       0.        , 0.        , 0.        , 0.        , 0.        ,\n",
              "       0.        , 0.        , 0.        , 0.        , 0.        ,\n",
              "       0.        , 0.        , 0.        , 0.        , 0.        ,\n",
              "       0.        , 0.        , 0.        , 0.        , 0.        ,\n",
              "       0.        , 0.        , 0.        , 0.        , 0.        ,\n",
              "       0.        , 0.        , 0.        , 0.        , 0.        ,\n",
              "       0.        , 0.        , 0.        , 0.        , 0.        ,\n",
              "       0.        , 0.04914033, 0.        , 0.        , 0.        ,\n",
              "       0.        , 0.        , 0.        , 0.        , 0.        ,\n",
              "       0.        , 0.        , 0.        , 0.        , 0.        ,\n",
              "       0.        , 0.        , 0.        , 0.        , 0.        ,\n",
              "       0.        , 0.        , 0.        , 0.        , 0.        ,\n",
              "       0.        , 0.        , 0.        , 0.        , 0.        ,\n",
              "       0.        , 0.        , 0.        , 0.02899541, 0.        ,\n",
              "       0.        , 0.        , 0.        , 0.        , 0.        ,\n",
              "       0.        , 0.        , 0.        , 0.        , 0.        ])"
            ]
          },
          "metadata": {
            "tags": []
          },
          "execution_count": 13
        }
      ]
    },
    {
      "cell_type": "code",
      "metadata": {
        "id": "aJD4Ga4umJFF"
      },
      "source": [
        "def report(y_test, y_pred):\n",
        "  from sklearn.metrics import confusion_matrix, accuracy_score, recall_score, precision_score, f1_score\n",
        "  import seaborn as sns\n",
        "\n",
        "  cm = confusion_matrix(y_test, y_pred)\n",
        "  cm = pd.DataFrame(cm, le.classes_, le.classes_)\n",
        "  print('Accuracy:', accuracy_score(y_test, y_pred), sep='\\t')\n",
        "  print('\\n')\n",
        "\n",
        "  plt.figure(figsize=(8, 6))\n",
        "  sns.heatmap(cm, annot=True, cmap='YlGnBu', fmt = 'd', annot_kws={\"size\": 35}).set_title('Confusion Matrix')\n",
        "  plt.show()"
      ],
      "execution_count": 14,
      "outputs": []
    },
    {
      "cell_type": "markdown",
      "metadata": {
        "id": "7AfxahIIwIyh"
      },
      "source": [
        "##Training The Model Using BernoulliNB"
      ]
    },
    {
      "cell_type": "code",
      "metadata": {
        "id": "W-IJm0ChbqNp"
      },
      "source": [
        "acc = {}"
      ],
      "execution_count": 23,
      "outputs": []
    },
    {
      "cell_type": "code",
      "metadata": {
        "id": "uh3NDUhLuQcR",
        "outputId": "72e8204b-abb7-4e63-cbb5-20616f0af7a9",
        "colab": {
          "base_uri": "https://localhost:8080/",
          "height": 544
        }
      },
      "source": [
        "from sklearn.naive_bayes import BernoulliNB\n",
        "\n",
        "model = BernoulliNB(alpha=0.01)\n",
        "model.fit(X_train, y_train)\n",
        "y_pred = model.predict(X_test)\n",
        "\n",
        "report(y_test, y_pred)\n",
        "acc['BernoulliNB'] = accuracy_score(y_test, y_pred)"
      ],
      "execution_count": 24,
      "outputs": [
        {
          "output_type": "stream",
          "text": [
            "Accuracy:\t0.9775280898876404\n",
            "\n",
            "\n"
          ],
          "name": "stdout"
        },
        {
          "output_type": "display_data",
          "data": {
            "image/png": "[encoded data removed]",
            "text/plain": [
              "<Figure size 576x432 with 2 Axes>"
            ]
          },
          "metadata": {
            "tags": [],
            "needs_background": "light"
          }
        }
      ]
    },
    {
      "cell_type": "markdown",
      "metadata": {
        "id": "i-VVEePcwuEC"
      },
      "source": [
        "##Training The Model Using ComplementNB"
      ]
    },
    {
      "cell_type": "code",
      "metadata": {
        "id": "TdM22U9sun5V",
        "outputId": "6c556e3e-78c4-470a-9879-d80c6c6e5076",
        "colab": {
          "base_uri": "https://localhost:8080/",
          "height": 544
        }
      },
      "source": [
        "from sklearn.naive_bayes import ComplementNB\n",
        "\n",
        "model = ComplementNB(alpha=0.2)\n",
        "model.fit(X_train, y_train)\n",
        "y_pred = model.predict(X_test)\n",
        "\n",
        "report(y_test, y_pred)\n",
        "acc['ComplementNB'] = accuracy_score(y_test, y_pred)"
      ],
      "execution_count": 25,
      "outputs": [
        {
          "output_type": "stream",
          "text": [
            "Accuracy:\t0.9887640449438202\n",
            "\n",
            "\n"
          ],
          "name": "stdout"
        },
        {
          "output_type": "display_data",
          "data": {
            "image/png": "[encoded data removed]",
            "text/plain": [
              "<Figure size 576x432 with 2 Axes>"
            ]
          },
          "metadata": {
            "tags": [],
            "needs_background": "light"
          }
        }
      ]
    },
    {
      "cell_type": "markdown",
      "metadata": {
        "id": "utrztcApwr5W"
      },
      "source": [
        "##Training The Model Using MultinomialNB"
      ]
    },
    {
      "cell_type": "code",
      "metadata": {
        "id": "uOrHY2qwik74",
        "outputId": "820d340a-31f2-404f-d33f-38563f158f6b",
        "colab": {
          "base_uri": "https://localhost:8080/",
          "height": 544
        }
      },
      "source": [
        "from sklearn.naive_bayes import MultinomialNB\n",
        "\n",
        "model = MultinomialNB(alpha = 0.1)\n",
        "model.fit(X_train, y_train)\n",
        "y_pred = model.predict(X_test)\n",
        "\n",
        "report(y_test, y_pred)\n",
        "acc['MultinomialNB'] = accuracy_score(y_test, y_pred)"
      ],
      "execution_count": 26,
      "outputs": [
        {
          "output_type": "stream",
          "text": [
            "Accuracy:\t0.9932584269662922\n",
            "\n",
            "\n"
          ],
          "name": "stdout"
        },
        {
          "output_type": "display_data",
          "data": {
            "image/png": "[encoded data removed]",
            "text/plain": [
              "<Figure size 576x432 with 2 Axes>"
            ]
          },
          "metadata": {
            "tags": [],
            "needs_background": "light"
          }
        }
      ]
    },
    {
      "cell_type": "markdown",
      "metadata": {
        "id": "rJyAtclrUmvL"
      },
      "source": [
        "## Training The Model Using LogisticRegression"
      ]
    },
    {
      "cell_type": "code",
      "metadata": {
        "id": "Blx9bvP_FTyk",
        "outputId": "d20b6fc6-8d4c-40a7-c888-7382c1deee43",
        "colab": {
          "base_uri": "https://localhost:8080/",
          "height": 544
        }
      },
      "source": [
        "from sklearn.linear_model import LogisticRegression\n",
        "\n",
        "model = LogisticRegression(C = 2, \n",
        "                           random_state = 0)\n",
        "model.fit(X_train, y_train)\n",
        "y_pred = model.predict(X_test)\n",
        "\n",
        "report(y_test, y_pred)\n",
        "acc['LogisticRegression'] = accuracy_score(y_test, y_pred)"
      ],
      "execution_count": 27,
      "outputs": [
        {
          "output_type": "stream",
          "text": [
            "Accuracy:\t0.9887640449438202\n",
            "\n",
            "\n"
          ],
          "name": "stdout"
        },
        {
          "output_type": "display_data",
          "data": {
            "image/png": "[encoded data removed]",
            "text/plain": [
              "<Figure size 576x432 with 2 Axes>"
            ]
          },
          "metadata": {
            "tags": [],
            "needs_background": "light"
          }
        }
      ]
    },
    {
      "cell_type": "markdown",
      "metadata": {
        "id": "xCC0LYKPUqdn"
      },
      "source": [
        "## Training The Model Using RandomForestClassifier"
      ]
    },
    {
      "cell_type": "code",
      "metadata": {
        "id": "Z84CBrFNGSqA",
        "outputId": "2f77cbad-8e9e-4a7e-bb05-8b50f7835a54",
        "colab": {
          "base_uri": "https://localhost:8080/",
          "height": 544
        }
      },
      "source": [
        "from sklearn.ensemble import RandomForestClassifier\n",
        "\n",
        "model = RandomForestClassifier(n_estimators = 100, \n",
        "                               criterion = 'gini', \n",
        "                               random_state = 0)\n",
        "model.fit(X_train, y_train)\n",
        "y_pred = model.predict(X_test)\n",
        "\n",
        "report(y_test, y_pred)\n",
        "acc['RandomForestClassifier'] = accuracy_score(y_test, y_pred)"
      ],
      "execution_count": 28,
      "outputs": [
        {
          "output_type": "stream",
          "text": [
            "Accuracy:\t0.9775280898876404\n",
            "\n",
            "\n"
          ],
          "name": "stdout"
        },
        {
          "output_type": "display_data",
          "data": {
            "image/png": "[encoded data removed]",
            "text/plain": [
              "<Figure size 576x432 with 2 Axes>"
            ]
          },
          "metadata": {
            "tags": [],
            "needs_background": "light"
          }
        }
      ]
    },
    {
      "cell_type": "markdown",
      "metadata": {
        "id": "Qsd1b0ow8ma2"
      },
      "source": [
        "##Training The Model Using SVC"
      ]
    },
    {
      "cell_type": "code",
      "metadata": {
        "id": "S5slUXly7aEf",
        "outputId": "53d071cd-2a57-47a6-dd0d-002d77bb8777",
        "colab": {
          "base_uri": "https://localhost:8080/",
          "height": 544
        }
      },
      "source": [
        "from sklearn.svm import SVC\n",
        "\n",
        "model = SVC(kernel = 'rbf',\n",
        "            random_state = 0)\n",
        "\n",
        "model.fit(X_train, y_train)\n",
        "y_pred = model.predict(X_test)\n",
        "\n",
        "report(y_test, y_pred)\n",
        "acc['SVC'] = accuracy_score(y_test, y_pred)"
      ],
      "execution_count": 29,
      "outputs": [
        {
          "output_type": "stream",
          "text": [
            "Accuracy:\t0.9910112359550561\n",
            "\n",
            "\n"
          ],
          "name": "stdout"
        },
        {
          "output_type": "display_data",
          "data": {
            "image/png": "[encoded data removed]",
            "text/plain": [
              "<Figure size 576x432 with 2 Axes>"
            ]
          },
          "metadata": {
            "tags": [],
            "needs_background": "light"
          }
        }
      ]
    },
    {
      "cell_type": "code",
      "metadata": {
        "id": "OrS1YIDUciOw",
        "outputId": "e3805394-4f45-4949-e4ea-dcf0609c197c",
        "colab": {
          "base_uri": "https://localhost:8080/",
          "height": 235
        }
      },
      "source": [
        "pd.DataFrame(data = acc.values(),\n",
        "             index = acc.keys(),\n",
        "             columns = ['Accuracy']).sort_values(ascending = False, by = ['Accuracy'])"
      ],
      "execution_count": 32,
      "outputs": [
        {
          "output_type": "execute_result",
          "data": {
            "text/html": [
              "<div>\n",
              "<style scoped>\n",
              "    .dataframe tbody tr th:only-of-type {\n",
              "        vertical-align: middle;\n",
              "    }\n",
              "\n",
              "    .dataframe tbody tr th {\n",
              "        vertical-align: top;\n",
              "    }\n",
              "\n",
              "    .dataframe thead th {\n",
              "        text-align: right;\n",
              "    }\n",
              "</style>\n",
              "<table border=\"1\" class=\"dataframe\">\n",
              "  <thead>\n",
              "    <tr style=\"text-align: right;\">\n",
              "      <th></th>\n",
              "      <th>Accuracy</th>\n",
              "    </tr>\n",
              "  </thead>\n",
              "  <tbody>\n",
              "    <tr>\n",
              "      <th>MultinomialNB</th>\n",
              "      <td>0.993258</td>\n",
              "    </tr>\n",
              "    <tr>\n",
              "      <th>SVC</th>\n",
              "      <td>0.991011</td>\n",
              "    </tr>\n",
              "    <tr>\n",
              "      <th>ComplementNB</th>\n",
              "      <td>0.988764</td>\n",
              "    </tr>\n",
              "    <tr>\n",
              "      <th>LogisticRegression</th>\n",
              "      <td>0.988764</td>\n",
              "    </tr>\n",
              "    <tr>\n",
              "      <th>BernoulliNB</th>\n",
              "      <td>0.977528</td>\n",
              "    </tr>\n",
              "    <tr>\n",
              "      <th>RandomForestClassifier</th>\n",
              "      <td>0.977528</td>\n",
              "    </tr>\n",
              "  </tbody>\n",
              "</table>\n",
              "</div>"
            ],
            "text/plain": [
              "                        Accuracy\n",
              "MultinomialNB           0.993258\n",
              "SVC                     0.991011\n",
              "ComplementNB            0.988764\n",
              "LogisticRegression      0.988764\n",
              "BernoulliNB             0.977528\n",
              "RandomForestClassifier  0.977528"
            ]
          },
          "metadata": {
            "tags": []
          },
          "execution_count": 32
        }
      ]
    }
  ]
}