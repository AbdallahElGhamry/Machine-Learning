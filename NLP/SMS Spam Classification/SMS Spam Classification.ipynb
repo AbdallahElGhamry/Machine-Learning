{
  "nbformat": 4,
  "nbformat_minor": 0,
  "metadata": {
    "colab": {
      "name": "SMS Spam Classification .ipynb",
      "provenance": [],
      "collapsed_sections": [],
      "toc_visible": true
    },
    "kernelspec": {
      "name": "python3",
      "display_name": "Python 3"
    }
  },
  "cells": [
    {
      "cell_type": "markdown",
      "metadata": {
        "id": "_hu_hwCbY_pU"
      },
      "source": [
        "#SMS Spam Classification "
      ]
    },
    {
      "cell_type": "markdown",
      "metadata": {
        "id": "NxI44QbSZ6dL"
      },
      "source": [
        "**Loading the Data**\n",
        "\n",
        "https://www.kaggle.com/uciml/sms-spam-collection-dataset"
      ]
    },
    {
      "cell_type": "markdown",
      "metadata": {
        "id": "rukW9fhaZPLB"
      },
      "source": [
        "**Importing the libraries**"
      ]
    },
    {
      "cell_type": "code",
      "metadata": {
        "id": "OXsXXMKqWgBL"
      },
      "source": [
        "import numpy as np\n",
        "import pandas as pd\n",
        "import matplotlib.pyplot as plt\n",
        "from sklearn.metrics import confusion_matrix, accuracy_score, recall_score, precision_score"
      ],
      "execution_count": 1,
      "outputs": []
    },
    {
      "cell_type": "markdown",
      "metadata": {
        "id": "ghrPayDaZTVI"
      },
      "source": [
        "**Importing the dataset**"
      ]
    },
    {
      "cell_type": "code",
      "metadata": {
        "id": "3GG8QFIZWgNI"
      },
      "source": [
        "dataSet = pd.read_csv('/content/drive/My Drive/data/SMSSpamCollection.txt', \n",
        "                      delimiter = '\\t', \n",
        "                      header = None,\n",
        "                      names = ['class', 'text'])"
      ],
      "execution_count": 10,
      "outputs": []
    },
    {
      "cell_type": "code",
      "metadata": {
        "id": "776XhBlfXiwc",
        "outputId": "8430efea-85b8-467a-eae4-6ad9fd40284e",
        "colab": {
          "base_uri": "https://localhost:8080/",
          "height": 376
        }
      },
      "source": [
        "# print out some data\n",
        "print('Data shape (rows, cols): ', dataSet.shape)\n",
        "dataSet.head(10)"
      ],
      "execution_count": 11,
      "outputs": [
        {
          "output_type": "stream",
          "text": [
            "Data shape (rows, cols):  (5572, 2)\n"
          ],
          "name": "stdout"
        },
        {
          "output_type": "execute_result",
          "data": {
            "text/html": [
              "<div>\n",
              "<style scoped>\n",
              "    .dataframe tbody tr th:only-of-type {\n",
              "        vertical-align: middle;\n",
              "    }\n",
              "\n",
              "    .dataframe tbody tr th {\n",
              "        vertical-align: top;\n",
              "    }\n",
              "\n",
              "    .dataframe thead th {\n",
              "        text-align: right;\n",
              "    }\n",
              "</style>\n",
              "<table border=\"1\" class=\"dataframe\">\n",
              "  <thead>\n",
              "    <tr style=\"text-align: right;\">\n",
              "      <th></th>\n",
              "      <th>class</th>\n",
              "      <th>text</th>\n",
              "    </tr>\n",
              "  </thead>\n",
              "  <tbody>\n",
              "    <tr>\n",
              "      <th>0</th>\n",
              "      <td>ham</td>\n",
              "      <td>Go until jurong point, crazy.. Available only ...</td>\n",
              "    </tr>\n",
              "    <tr>\n",
              "      <th>1</th>\n",
              "      <td>ham</td>\n",
              "      <td>Ok lar... Joking wif u oni...</td>\n",
              "    </tr>\n",
              "    <tr>\n",
              "      <th>2</th>\n",
              "      <td>spam</td>\n",
              "      <td>Free entry in 2 a wkly comp to win FA Cup fina...</td>\n",
              "    </tr>\n",
              "    <tr>\n",
              "      <th>3</th>\n",
              "      <td>ham</td>\n",
              "      <td>U dun say so early hor... U c already then say...</td>\n",
              "    </tr>\n",
              "    <tr>\n",
              "      <th>4</th>\n",
              "      <td>ham</td>\n",
              "      <td>Nah I don't think he goes to usf, he lives aro...</td>\n",
              "    </tr>\n",
              "    <tr>\n",
              "      <th>5</th>\n",
              "      <td>spam</td>\n",
              "      <td>FreeMsg Hey there darling it's been 3 week's n...</td>\n",
              "    </tr>\n",
              "    <tr>\n",
              "      <th>6</th>\n",
              "      <td>ham</td>\n",
              "      <td>Even my brother is not like to speak with me. ...</td>\n",
              "    </tr>\n",
              "    <tr>\n",
              "      <th>7</th>\n",
              "      <td>ham</td>\n",
              "      <td>As per your request 'Melle Melle (Oru Minnamin...</td>\n",
              "    </tr>\n",
              "    <tr>\n",
              "      <th>8</th>\n",
              "      <td>spam</td>\n",
              "      <td>WINNER!! As a valued network customer you have...</td>\n",
              "    </tr>\n",
              "    <tr>\n",
              "      <th>9</th>\n",
              "      <td>spam</td>\n",
              "      <td>Had your mobile 11 months or more? U R entitle...</td>\n",
              "    </tr>\n",
              "  </tbody>\n",
              "</table>\n",
              "</div>"
            ],
            "text/plain": [
              "  class                                               text\n",
              "0   ham  Go until jurong point, crazy.. Available only ...\n",
              "1   ham                      Ok lar... Joking wif u oni...\n",
              "2  spam  Free entry in 2 a wkly comp to win FA Cup fina...\n",
              "3   ham  U dun say so early hor... U c already then say...\n",
              "4   ham  Nah I don't think he goes to usf, he lives aro...\n",
              "5  spam  FreeMsg Hey there darling it's been 3 week's n...\n",
              "6   ham  Even my brother is not like to speak with me. ...\n",
              "7   ham  As per your request 'Melle Melle (Oru Minnamin...\n",
              "8  spam  WINNER!! As a valued network customer you have...\n",
              "9  spam  Had your mobile 11 months or more? U R entitle..."
            ]
          },
          "metadata": {
            "tags": []
          },
          "execution_count": 11
        }
      ]
    },
    {
      "cell_type": "code",
      "metadata": {
        "id": "B6T_pMuca3CF",
        "outputId": "f7a85d50-ec00-4a99-aa20-d8839c72abf1",
        "colab": {
          "base_uri": "https://localhost:8080/",
          "height": 170
        }
      },
      "source": [
        "dataSet.info()"
      ],
      "execution_count": 13,
      "outputs": [
        {
          "output_type": "stream",
          "text": [
            "<class 'pandas.core.frame.DataFrame'>\n",
            "RangeIndex: 5572 entries, 0 to 5571\n",
            "Data columns (total 2 columns):\n",
            " #   Column  Non-Null Count  Dtype \n",
            "---  ------  --------------  ----- \n",
            " 0   class   5572 non-null   object\n",
            " 1   text    5572 non-null   object\n",
            "dtypes: object(2)\n",
            "memory usage: 87.2+ KB\n"
          ],
          "name": "stdout"
        }
      ]
    },
    {
      "cell_type": "code",
      "metadata": {
        "id": "GW0XTgLkahD2"
      },
      "source": [
        "spam = dataSet[dataSet['class'] == 'spam'].shape[0]\n",
        "ham = dataSet[dataSet['class'] == 'ham'].shape[0]"
      ],
      "execution_count": 15,
      "outputs": []
    },
    {
      "cell_type": "code",
      "metadata": {
        "id": "mIWiLkfbVIta",
        "outputId": "8e08363f-fa6e-4d1d-cc18-18f1feb7953e",
        "colab": {
          "base_uri": "https://localhost:8080/",
          "height": 554
        }
      },
      "source": [
        "spam_percentage = spam / (spam + ham)\n",
        "\n",
        "print('Spam:\\t\\t', spam)\n",
        "print('Ham:\\t\\t', ham)\n",
        "print('Spam Percentage:', spam_percentage, end='\\n\\n')\n",
        "\n",
        "plt.figure(figsize=(12, 8))\n",
        "font = {'weight': 'normal','size': 20}\n",
        "plt.rc('font', **font)\n",
        "plt.title('Spam vs. Ham', size=18)\n",
        "plt.pie([spam, ham], labels=['Spam', 'Ham'], colors=['tomato', 'lightgreen'], autopct='%1.3f%%', shadow=True, startangle=90)\n",
        "plt.show()"
      ],
      "execution_count": 16,
      "outputs": [
        {
          "output_type": "stream",
          "text": [
            "Spam:\t\t 747\n",
            "Ham:\t\t 4825\n",
            "Spam Percentage: 0.13406317300789664\n",
            "\n"
          ],
          "name": "stdout"
        },
        {
          "output_type": "display_data",
          "data": {
            "image/png": "[encoded data removed]",
            "text/plain": [
              "<Figure size 864x576 with 1 Axes>"
            ]
          },
          "metadata": {
            "tags": []
          }
        }
      ]
    },
    {
      "cell_type": "code",
      "metadata": {
        "id": "LVJM816GspWG",
        "outputId": "a02f7c42-ff4d-4b66-db21-55d919f7624d",
        "colab": {
          "base_uri": "https://localhost:8080/",
          "height": 419
        }
      },
      "source": [
        "dataSet['class'].replace('ham', 0, inplace=True)\n",
        "dataSet['class'].replace('spam', 1, inplace=True)\n",
        "dataSet"
      ],
      "execution_count": 29,
      "outputs": [
        {
          "output_type": "execute_result",
          "data": {
            "text/html": [
              "<div>\n",
              "<style scoped>\n",
              "    .dataframe tbody tr th:only-of-type {\n",
              "        vertical-align: middle;\n",
              "    }\n",
              "\n",
              "    .dataframe tbody tr th {\n",
              "        vertical-align: top;\n",
              "    }\n",
              "\n",
              "    .dataframe thead th {\n",
              "        text-align: right;\n",
              "    }\n",
              "</style>\n",
              "<table border=\"1\" class=\"dataframe\">\n",
              "  <thead>\n",
              "    <tr style=\"text-align: right;\">\n",
              "      <th></th>\n",
              "      <th>class</th>\n",
              "      <th>text</th>\n",
              "    </tr>\n",
              "  </thead>\n",
              "  <tbody>\n",
              "    <tr>\n",
              "      <th>0</th>\n",
              "      <td>0</td>\n",
              "      <td>Go until jurong point, crazy.. Available only ...</td>\n",
              "    </tr>\n",
              "    <tr>\n",
              "      <th>1</th>\n",
              "      <td>0</td>\n",
              "      <td>Ok lar... Joking wif u oni...</td>\n",
              "    </tr>\n",
              "    <tr>\n",
              "      <th>2</th>\n",
              "      <td>1</td>\n",
              "      <td>Free entry in 2 a wkly comp to win FA Cup fina...</td>\n",
              "    </tr>\n",
              "    <tr>\n",
              "      <th>3</th>\n",
              "      <td>0</td>\n",
              "      <td>U dun say so early hor... U c already then say...</td>\n",
              "    </tr>\n",
              "    <tr>\n",
              "      <th>4</th>\n",
              "      <td>0</td>\n",
              "      <td>Nah I don't think he goes to usf, he lives aro...</td>\n",
              "    </tr>\n",
              "    <tr>\n",
              "      <th>...</th>\n",
              "      <td>...</td>\n",
              "      <td>...</td>\n",
              "    </tr>\n",
              "    <tr>\n",
              "      <th>5567</th>\n",
              "      <td>1</td>\n",
              "      <td>This is the 2nd time we have tried 2 contact u...</td>\n",
              "    </tr>\n",
              "    <tr>\n",
              "      <th>5568</th>\n",
              "      <td>0</td>\n",
              "      <td>Will ü b going to esplanade fr home?</td>\n",
              "    </tr>\n",
              "    <tr>\n",
              "      <th>5569</th>\n",
              "      <td>0</td>\n",
              "      <td>Pity, * was in mood for that. So...any other s...</td>\n",
              "    </tr>\n",
              "    <tr>\n",
              "      <th>5570</th>\n",
              "      <td>0</td>\n",
              "      <td>The guy did some bitching but I acted like i'd...</td>\n",
              "    </tr>\n",
              "    <tr>\n",
              "      <th>5571</th>\n",
              "      <td>0</td>\n",
              "      <td>Rofl. Its true to its name</td>\n",
              "    </tr>\n",
              "  </tbody>\n",
              "</table>\n",
              "<p>5572 rows × 2 columns</p>\n",
              "</div>"
            ],
            "text/plain": [
              "      class                                               text\n",
              "0         0  Go until jurong point, crazy.. Available only ...\n",
              "1         0                      Ok lar... Joking wif u oni...\n",
              "2         1  Free entry in 2 a wkly comp to win FA Cup fina...\n",
              "3         0  U dun say so early hor... U c already then say...\n",
              "4         0  Nah I don't think he goes to usf, he lives aro...\n",
              "...     ...                                                ...\n",
              "5567      1  This is the 2nd time we have tried 2 contact u...\n",
              "5568      0               Will ü b going to esplanade fr home?\n",
              "5569      0  Pity, * was in mood for that. So...any other s...\n",
              "5570      0  The guy did some bitching but I acted like i'd...\n",
              "5571      0                         Rofl. Its true to its name\n",
              "\n",
              "[5572 rows x 2 columns]"
            ]
          },
          "metadata": {
            "tags": []
          },
          "execution_count": 29
        }
      ]
    },
    {
      "cell_type": "markdown",
      "metadata": {
        "id": "GlthH3ETbcqB"
      },
      "source": [
        "**Importing NLTK Library**"
      ]
    },
    {
      "cell_type": "code",
      "metadata": {
        "id": "TQXeXHzNXvon",
        "outputId": "4b534e52-b547-44a9-a59f-57998e6e9f5c",
        "colab": {
          "base_uri": "https://localhost:8080/",
          "height": 51
        }
      },
      "source": [
        "import re\n",
        "import nltk\n",
        "nltk.download('stopwords')\n",
        "from nltk.corpus import stopwords\n",
        "from nltk.stem.porter import PorterStemmer"
      ],
      "execution_count": 17,
      "outputs": [
        {
          "output_type": "stream",
          "text": [
            "[nltk_data] Downloading package stopwords to /root/nltk_data...\n",
            "[nltk_data]   Unzipping corpora/stopwords.zip.\n"
          ],
          "name": "stdout"
        }
      ]
    },
    {
      "cell_type": "code",
      "metadata": {
        "id": "rRACU8aui8k2"
      },
      "source": [
        "n =  dataSet.shape[0]\n",
        "corpus = []\n",
        "ps = PorterStemmer()\n",
        "\n",
        "for i in range(n):\n",
        "    text = re.sub('[^a-zA-Z]', ' ', dataSet['text'][i].lower())\n",
        "    text = text.split()  # Spliting text into words\n",
        "    text = [ps.stem(word) for word in text if not word in set(stopwords.words('english'))]  # Removing stopwords & # stemming\n",
        "    text = ' '.join(text)  #Joining text\n",
        "    corpus.append(text)"
      ],
      "execution_count": 18,
      "outputs": []
    },
    {
      "cell_type": "markdown",
      "metadata": {
        "id": "E4qAau1KZc6U"
      },
      "source": [
        "**Splitting the dataset into the Training set and Test set**"
      ]
    },
    {
      "cell_type": "code",
      "metadata": {
        "id": "lhoh0u5KjKP0"
      },
      "source": [
        "X = corpus\n",
        "y = dataSet.iloc[:, 0].values\n",
        "\n",
        "from sklearn.model_selection import train_test_split\n",
        "X_train, X_test, y_train, y_test = train_test_split(X, y, test_size=0.25, random_state=0)"
      ],
      "execution_count": 30,
      "outputs": []
    },
    {
      "cell_type": "markdown",
      "metadata": {
        "id": "_5hhmvyQjOjk"
      },
      "source": [
        "**Features Extraction**"
      ]
    },
    {
      "cell_type": "code",
      "metadata": {
        "id": "Ib1g-CpI5WVy"
      },
      "source": [
        "from sklearn.feature_extraction.text import CountVectorizer\n",
        "cv = CountVectorizer()\n",
        "X_train = cv.fit_transform(X_train).toarray()\n",
        "X_test = cv.transform(X_test).toarray()"
      ],
      "execution_count": null,
      "outputs": []
    },
    {
      "cell_type": "code",
      "metadata": {
        "id": "gZ62vEnKjf1-",
        "outputId": "fc1f7981-974c-49e5-89a8-73587a593d9f",
        "colab": {
          "base_uri": "https://localhost:8080/",
          "height": 1000
        }
      },
      "source": [
        "cv.vocabulary_"
      ],
      "execution_count": 20,
      "outputs": [
        {
          "output_type": "execute_result",
          "data": {
            "text/plain": [
              "{'go': 1881,\n",
              " 'good': 1896,\n",
              " 'problem': 3656,\n",
              " 'still': 4464,\n",
              " 'need': 3091,\n",
              " 'littl': 2657,\n",
              " 'experi': 1520,\n",
              " 'understand': 4978,\n",
              " 'american': 156,\n",
              " 'custom': 1048,\n",
              " 'voic': 5120,\n",
              " 'secret': 4065,\n",
              " 'admir': 56,\n",
              " 'reveal': 3899,\n",
              " 'think': 4744,\n",
              " 'special': 4374,\n",
              " 'call': 661,\n",
              " 'opt': 3294,\n",
              " 'repli': 3870,\n",
              " 'stop': 4473,\n",
              " 'per': 3436,\n",
              " 'msg': 3007,\n",
              " 'recd': 3806,\n",
              " 'cust': 1046,\n",
              " 'care': 694,\n",
              " 'ok': 3254,\n",
              " 'huh': 2176,\n",
              " 'hyde': 2195,\n",
              " 'park': 3389,\n",
              " 'mel': 2860,\n",
              " 'ah': 96,\n",
              " 'opp': 3290,\n",
              " 'got': 1912,\n",
              " 'confus': 930,\n",
              " 'anyway': 204,\n",
              " 'tt': 4913,\n",
              " 'best': 448,\n",
              " 'choic': 802,\n",
              " 'den': 1140,\n",
              " 'juz': 2459,\n",
              " 'take': 4623,\n",
              " 'hope': 2139,\n",
              " 'piss': 3499,\n",
              " 'rememb': 3855,\n",
              " 'gone': 1893,\n",
              " 'sister': 4231,\n",
              " 'someth': 4329,\n",
              " 'accordingli': 32,\n",
              " 'repeat': 3867,\n",
              " 'text': 4703,\n",
              " 'word': 5321,\n",
              " 'mobil': 2947,\n",
              " 'phone': 3475,\n",
              " 'send': 4087,\n",
              " 'wat': 5169,\n",
              " 'da': 1062,\n",
              " 'model': 2953,\n",
              " 'num': 3206,\n",
              " 'ur': 5022,\n",
              " 'sorri': 4351,\n",
              " 'later': 2570,\n",
              " 'worri': 5329,\n",
              " 'photo': 3477,\n",
              " 'shoot': 4169,\n",
              " 'went': 5220,\n",
              " 'well': 5214,\n",
              " 'spif': 4385,\n",
              " 'fun': 1780,\n",
              " 'workag': 5323,\n",
              " 'part': 3390,\n",
              " 'check': 763,\n",
              " 'iq': 2338,\n",
              " 'nokia': 3163,\n",
              " 'tone': 4841,\n",
              " 'mob': 2945,\n",
              " 'everi': 1481,\n",
              " 'week': 5202,\n",
              " 'txt': 4939,\n",
              " 'nok': 3162,\n",
              " 'st': 4421,\n",
              " 'free': 1730,\n",
              " 'get': 1845,\n",
              " 'txtin': 4941,\n",
              " 'tell': 4674,\n",
              " 'friend': 1748,\n",
              " 'hl': 2101,\n",
              " 'info': 2286,\n",
              " 'hi': 2085,\n",
              " 'ard': 239,\n",
              " 'christma': 811,\n",
              " 'enjoy': 1423,\n",
              " 'merri': 2874,\n",
              " 'ma': 2750,\n",
              " 'tmr': 4810,\n",
              " 'brin': 584,\n",
              " 'lar': 2562,\n",
              " 'aiya': 108,\n",
              " 'come': 885,\n",
              " 'mayb': 2839,\n",
              " 'neva': 3111,\n",
              " 'set': 4106,\n",
              " 'properli': 3680,\n",
              " 'help': 2071,\n",
              " 'sheet': 4140,\n",
              " 'wif': 5259,\n",
              " 'lol': 2680,\n",
              " 'til': 4787,\n",
              " 'last': 2567,\n",
              " 'nite': 3148,\n",
              " 'imma': 2247,\n",
              " 'definit': 1123,\n",
              " 'restock': 3890,\n",
              " 'thanksgiv': 4718,\n",
              " 'let': 2613,\n",
              " 'know': 2522,\n",
              " 'guy': 1980,\n",
              " 'bitch': 483,\n",
              " 'act': 42,\n",
              " 'like': 2634,\n",
              " 'interest': 2314,\n",
              " 'buy': 642,\n",
              " 'els': 1397,\n",
              " 'next': 3125,\n",
              " 'gave': 1818,\n",
              " 'us': 5034,\n",
              " 'reach': 3785,\n",
              " 'sch': 4037,\n",
              " 'alreadi': 141,\n",
              " 'kick': 2500,\n",
              " 'hurri': 2185,\n",
              " 'home': 2122,\n",
              " 'soup': 4358,\n",
              " 'done': 1269,\n",
              " 'yiju': 5427,\n",
              " 'regard': 3839,\n",
              " 'textbook': 4705,\n",
              " 'intro': 2323,\n",
              " 'algorithm': 128,\n",
              " 'second': 4063,\n",
              " 'edit': 1366,\n",
              " 'sell': 4084,\n",
              " 'nope': 3172,\n",
              " 'meanwhil': 2847,\n",
              " 'talk': 4628,\n",
              " 'say': 4029,\n",
              " 'make': 2782,\n",
              " 'greet': 1948,\n",
              " 'one': 3273,\n",
              " 'treat': 4890,\n",
              " 'kalli': 2468,\n",
              " 'ground': 1956,\n",
              " 'amla': 160,\n",
              " 'town': 4871,\n",
              " 'durban': 1335,\n",
              " 'luv': 2743,\n",
              " 'ya': 5395,\n",
              " 'actual': 46,\n",
              " 'exam': 1501,\n",
              " 'harder': 2017,\n",
              " 'nbme': 3078,\n",
              " 'posibl': 3573,\n",
              " 'dnt': 1243,\n",
              " 'live': 2658,\n",
              " 'lt': 2730,\n",
              " 'gt': 1965,\n",
              " 'centuri': 729,\n",
              " 'cm': 848,\n",
              " 'frwd': 1767,\n",
              " 'thnk': 4754,\n",
              " 'differ': 1194,\n",
              " 'wah': 5135,\n",
              " 'lucki': 2735,\n",
              " 'man': 2789,\n",
              " 'save': 4027,\n",
              " 'money': 2966,\n",
              " 'hee': 2060,\n",
              " 'din': 1202,\n",
              " 'yup': 5449,\n",
              " 'cut': 1051,\n",
              " 'hair': 1991,\n",
              " 'cab': 650,\n",
              " 'avail': 322,\n",
              " 'pick': 3485,\n",
              " 'drop': 1311,\n",
              " 'door': 1276,\n",
              " 'step': 4454,\n",
              " 'wait': 5141,\n",
              " 'bu': 612,\n",
              " 'inform': 2287,\n",
              " 'ever': 1480,\n",
              " 'knw': 2524,\n",
              " 'vl': 5116,\n",
              " 'giv': 1866,\n",
              " 'thank': 4717,\n",
              " 'kano': 2472,\n",
              " 'wit': 5287,\n",
              " 'famili': 1555,\n",
              " 'salari': 3993,\n",
              " 'much': 3020,\n",
              " 'skype': 4251,\n",
              " 'kz': 2539,\n",
              " 'sura': 4563,\n",
              " 'didnt': 1189,\n",
              " 'pleasur': 3521,\n",
              " 'compani': 898,\n",
              " 'given': 1868,\n",
              " 'ultimatum': 4962,\n",
              " 'oh': 3249,\n",
              " 'countin': 974,\n",
              " 'aburo': 18,\n",
              " 'messag': 2876,\n",
              " 'sent': 4093,\n",
              " 'day': 1090,\n",
              " 'ago': 94,\n",
              " 'watch': 5170,\n",
              " 'tv': 4927,\n",
              " 'meet': 2853,\n",
              " 'sun': 4545,\n",
              " 'anti': 195,\n",
              " 'sleep': 4257,\n",
              " 'medicin': 2851,\n",
              " 'abj': 10,\n",
              " 'serv': 4103,\n",
              " 'stay': 4444,\n",
              " 'dad': 1065,\n",
              " 'alon': 139,\n",
              " 'servic': 4105,\n",
              " 'announc': 185,\n",
              " 'recent': 3810,\n",
              " 'tri': 4895,\n",
              " 'deliveri': 1135,\n",
              " 'unabl': 4968,\n",
              " 'pleas': 3520,\n",
              " 'schedul': 4038,\n",
              " 'ref': 3826,\n",
              " 'late': 2569,\n",
              " 'said': 3989,\n",
              " 'websit': 5194,\n",
              " 'dont': 1271,\n",
              " 'slipper': 4267,\n",
              " 'privat': 3648,\n",
              " 'account': 33,\n",
              " 'statement': 4441,\n",
              " 'show': 4184,\n",
              " 'un': 4967,\n",
              " 'redeem': 3823,\n",
              " 'point': 3542,\n",
              " 'identifi': 2219,\n",
              " 'code': 867,\n",
              " 'expir': 1522,\n",
              " 'xma': 5380,\n",
              " 'prize': 3650,\n",
              " 'draw': 1297,\n",
              " 'contact': 940,\n",
              " 'today': 4820,\n",
              " 'guarante': 1967,\n",
              " 'land': 2553,\n",
              " 'line': 2639,\n",
              " 'valid': 5058,\n",
              " 'hr': 2167,\n",
              " 'kay': 2480,\n",
              " 'sat': 4016,\n",
              " 'right': 3912,\n",
              " 'guess': 1972,\n",
              " 'pub': 3698,\n",
              " 'im': 2240,\n",
              " 'happi': 2014,\n",
              " 'pig': 3490,\n",
              " 'clover': 843,\n",
              " 'whatev': 5233,\n",
              " 'aiyah': 109,\n",
              " 'nydc': 3218,\n",
              " 'wheellock': 5237,\n",
              " 'cant': 684,\n",
              " 'pl': 3505,\n",
              " 'yo': 5430,\n",
              " 'work': 5322,\n",
              " 'buzi': 645,\n",
              " 'princess': 3641,\n",
              " 'love': 2713,\n",
              " 'time': 4790,\n",
              " 'night': 3138,\n",
              " 'that': 4723,\n",
              " 'latest': 2571,\n",
              " 'ipod': 2337,\n",
              " 'mp': 2999,\n",
              " 'player': 3516,\n",
              " 'proze': 3688,\n",
              " 'win': 5269,\n",
              " 'norcorp': 3174,\n",
              " 'ltd': 2731,\n",
              " 'mtmsgrcvd': 3016,\n",
              " 'eldest': 1390,\n",
              " 'staff': 4425,\n",
              " 'placement': 3507,\n",
              " 'train': 4878,\n",
              " 'amrita': 169,\n",
              " 'colleg': 879,\n",
              " 'way': 5183,\n",
              " 'put': 3715,\n",
              " 'skip': 4247,\n",
              " 'outsid': 3334,\n",
              " 'front': 1764,\n",
              " 'hous': 2156,\n",
              " 'see': 4071,\n",
              " 'pull': 3702,\n",
              " 'god': 1883,\n",
              " 'almost': 138,\n",
              " 'funer': 1784,\n",
              " 'jst': 2440,\n",
              " 'chang': 743,\n",
              " 'tat': 4643,\n",
              " 'would': 5338,\n",
              " 'mom': 2961,\n",
              " 'fit': 1641,\n",
              " 'whole': 5250,\n",
              " 'crazi': 994,\n",
              " 'terribl': 4694,\n",
              " 'dear': 1100,\n",
              " 'mood': 2974,\n",
              " 'drive': 1306,\n",
              " 'brother': 597,\n",
              " 'lemm': 2604,\n",
              " 'swing': 4597,\n",
              " 'basic': 386,\n",
              " 'semest': 4085,\n",
              " 'forgot': 1704,\n",
              " 'ask': 278,\n",
              " 'smth': 4294,\n",
              " 'card': 692,\n",
              " 'present': 3623,\n",
              " 'lei': 2602,\n",
              " 'want': 5158,\n",
              " 'write': 5350,\n",
              " 'sign': 4206,\n",
              " 'nooooooo': 3170,\n",
              " 'gonna': 1895,\n",
              " 'bore': 534,\n",
              " 'death': 1103,\n",
              " 'cabl': 652,\n",
              " 'internet': 2318,\n",
              " 'outag': 3327,\n",
              " 'video': 5089,\n",
              " 'camera': 673,\n",
              " 'half': 1994,\n",
              " 'price': 3636,\n",
              " 'rental': 3864,\n",
              " 'mth': 3014,\n",
              " 'cross': 1011,\n",
              " 'ntwk': 3201,\n",
              " 'min': 2898,\n",
              " 'mobileupd': 2950,\n",
              " 'optout': 3299,\n",
              " 'haha': 1987,\n",
              " 'use': 5038,\n",
              " 'usf': 5040,\n",
              " 'lot': 2703,\n",
              " 'stoner': 4471,\n",
              " 'anyth': 200,\n",
              " 'sure': 4564,\n",
              " 'xavier': 5374,\n",
              " 'smoke': 4288,\n",
              " 'told': 4827,\n",
              " 'alright': 142,\n",
              " 'bring': 585,\n",
              " 'even': 1477,\n",
              " 'appendix': 218,\n",
              " 'age': 90,\n",
              " 'rang': 3769,\n",
              " 'howev': 2162,\n",
              " 'imposs': 2257,\n",
              " 'chill': 789,\n",
              " 'recpt': 3820,\n",
              " 'order': 3304,\n",
              " 'rington': 3918,\n",
              " 'process': 3661,\n",
              " 'offici': 3243,\n",
              " 'england': 1421,\n",
              " 'poli': 3547,\n",
              " 'colour': 881,\n",
              " 'flag': 1649,\n",
              " 'yer': 5418,\n",
              " 'tonight': 4844,\n",
              " 'game': 1804,\n",
              " 'eng': 1417,\n",
              " 'box': 549,\n",
              " 'wx': 5371,\n",
              " 'vodafon': 5118,\n",
              " 'number': 3207,\n",
              " 'end': 1412,\n",
              " 'four': 1716,\n",
              " 'digit': 1198,\n",
              " 'select': 4079,\n",
              " 'receiv': 3808,\n",
              " 'award': 335,\n",
              " 'match': 2825,\n",
              " 'claim': 820,\n",
              " 'wine': 5275,\n",
              " 'dine': 1203,\n",
              " 'ladi': 2546,\n",
              " 'detail': 1166,\n",
              " 'question': 3734,\n",
              " 'orang': 3302,\n",
              " 'mobilesdirect': 2948,\n",
              " 'updat': 5016,\n",
              " 'stoptxt': 4479,\n",
              " 'came': 672,\n",
              " 'hostel': 2148,\n",
              " 'probabl': 3655,\n",
              " 'ga': 1795,\n",
              " 'cash': 707,\n",
              " 'tomorrow': 4838,\n",
              " 'clair': 821,\n",
              " 'havin': 2037,\n",
              " 'borin': 535,\n",
              " 'wanna': 5156,\n",
              " 'cum': 1038,\n",
              " 'chat': 756,\n",
              " 'xx': 5384,\n",
              " 'minmoremobsemspobox': 2908,\n",
              " 'po': 3532,\n",
              " 'wa': 5133,\n",
              " 'fine': 1628,\n",
              " 'babe': 349,\n",
              " 'aint': 104,\n",
              " 'tho': 4758,\n",
              " 'saw': 4028,\n",
              " 'scari': 4035,\n",
              " 'movi': 2997,\n",
              " 'yest': 5419,\n",
              " 'quit': 3738,\n",
              " 'funni': 1787,\n",
              " 'mrw': 3005,\n",
              " 'afternoon': 86,\n",
              " 'mall': 2787,\n",
              " 'sumthin': 4544,\n",
              " 'shant': 4133,\n",
              " 'disturb': 1233,\n",
              " 'anymor': 198,\n",
              " 'jia': 2411,\n",
              " 'morn': 2978,\n",
              " 'plz': 3530,\n",
              " 'sir': 4229,\n",
              " 'environ': 1439,\n",
              " 'terrif': 4695,\n",
              " 'food': 1688,\n",
              " 'realli': 3796,\n",
              " 'nice': 3130,\n",
              " 'simpli': 4218,\n",
              " 'sit': 4232,\n",
              " 'offic': 3242,\n",
              " 'aight': 103,\n",
              " 'around': 258,\n",
              " 'hmmm': 2106,\n",
              " 'open': 3286,\n",
              " 'leh': 2601,\n",
              " 'tuition': 4918,\n",
              " 'look': 2690,\n",
              " 'empti': 1409,\n",
              " 'slot': 4268,\n",
              " 'lesson': 2612,\n",
              " 'dai': 1067,\n",
              " 'resum': 3894,\n",
              " 'id': 2215,\n",
              " 'gentl': 1835,\n",
              " 'babi': 350,\n",
              " 'soon': 4342,\n",
              " 'inch': 2263,\n",
              " 'deep': 1116,\n",
              " 'insid': 2302,\n",
              " 'tight': 4784,\n",
              " 'pussi': 3714,\n",
              " 'gotta': 1918,\n",
              " 'hit': 2097,\n",
              " 'peopl': 3435,\n",
              " 'first': 1638,\n",
              " 'amp': 167,\n",
              " 'coher': 869,\n",
              " 'twenti': 4930,\n",
              " 'major': 2781,\n",
              " 'role': 3935,\n",
              " 'commun': 895,\n",
              " 'outreach': 3333,\n",
              " 'rock': 3931,\n",
              " 'dude': 1325,\n",
              " 'arrest': 262,\n",
              " 'earn': 1348,\n",
              " 'leav': 2594,\n",
              " 'alway': 150,\n",
              " 'ignor': 2229,\n",
              " 'medic': 2850,\n",
              " 'pm': 3531,\n",
              " 'forward': 1713,\n",
              " 'macha': 2756,\n",
              " 'feel': 1591,\n",
              " 'upset': 5019,\n",
              " 'assum': 290,\n",
              " 'mindset': 2901,\n",
              " 'believ': 434,\n",
              " 'wonder': 5314,\n",
              " 'plan': 3509,\n",
              " 'life': 2624,\n",
              " 'begin': 428,\n",
              " 'anytim': 203,\n",
              " 'new': 3116,\n",
              " 'address': 52,\n",
              " 'appl': 220,\n",
              " 'pair': 3363,\n",
              " 'malarki': 2785,\n",
              " 'complet': 908,\n",
              " 'gist': 1865,\n",
              " 'especi': 1460,\n",
              " 'sinc': 4220,\n",
              " 'boston': 539,\n",
              " 'person': 3452,\n",
              " 'woulda': 5339,\n",
              " 'realiz': 3795,\n",
              " 'nyc': 3217,\n",
              " 'drug': 1314,\n",
              " 'abl': 11,\n",
              " 'eat': 1357,\n",
              " 'nt': 3199,\n",
              " 'escap': 1456,\n",
              " 'theatr': 4727,\n",
              " 'kavalan': 2479,\n",
              " 'minut': 2913,\n",
              " 'contin': 943,\n",
              " 'keep': 2484,\n",
              " 'safe': 3985,\n",
              " 'miss': 2919,\n",
              " 'envi': 1438,\n",
              " 'everyon': 1485,\n",
              " 'real': 3791,\n",
              " 'pretti': 3631,\n",
              " 'girl': 1862,\n",
              " 'bed': 419,\n",
              " 'recoveri': 3819,\n",
              " 'rather': 3774,\n",
              " 'pass': 3399,\n",
              " 'coop': 954,\n",
              " 'gr': 1926,\n",
              " 'hey': 2081,\n",
              " 'gal': 1800,\n",
              " 'dinner': 1206,\n",
              " 'te': 4657,\n",
              " 'jess': 2404,\n",
              " 'eve': 1475,\n",
              " 'xxx': 5386,\n",
              " 'luton': 2742,\n",
              " 'ring': 3917,\n",
              " 'pictur': 3487,\n",
              " 'facebook': 1541,\n",
              " 'thought': 4761,\n",
              " 'perfect': 3440,\n",
              " 'partner': 3395,\n",
              " 'back': 353,\n",
              " 'name': 3060,\n",
              " 'join': 2423,\n",
              " 'sm': 4274,\n",
              " 'thing': 4743,\n",
              " 'sentenc': 4094,\n",
              " 'concentr': 917,\n",
              " 'educ': 1369,\n",
              " 'career': 696,\n",
              " 'holi': 2118,\n",
              " 'shit': 4158,\n",
              " 'kid': 2503,\n",
              " 'bud': 615,\n",
              " 'start': 4437,\n",
              " 'skye': 4250,\n",
              " 'wife': 5260,\n",
              " 'knew': 2520,\n",
              " 'murder': 3033,\n",
              " 'exactli': 1500,\n",
              " 'slow': 4269,\n",
              " 'biola': 474,\n",
              " 'fne': 1678,\n",
              " 'glad': 1869,\n",
              " 'follow': 1683,\n",
              " 'dream': 1298,\n",
              " 'goodo': 1905,\n",
              " 'ye': 5407,\n",
              " 'must': 3037,\n",
              " 'speak': 4373,\n",
              " 'friday': 1746,\n",
              " 'egg': 1378,\n",
              " 'potato': 3581,\n",
              " 'ratio': 3775,\n",
              " 'tortilla': 4859,\n",
              " 'final': 1623,\n",
              " 'lunch': 2740,\n",
              " 'stomach': 4468,\n",
              " 'thru': 4772,\n",
              " 'trauma': 4884,\n",
              " 'swear': 4587,\n",
              " 'better': 452,\n",
              " 'lose': 2699,\n",
              " 'weight': 5206,\n",
              " 'ad': 47,\n",
              " 'doc': 1246,\n",
              " 'appoint': 224,\n",
              " 'tire': 4793,\n",
              " 'shove': 4183,\n",
              " 'stuff': 4510,\n",
              " 'ugh': 4956,\n",
              " 'normal': 3177,\n",
              " 'bodi': 517,\n",
              " 'doubl': 1282,\n",
              " 'linerent': 2641,\n",
              " 'motorola': 2992,\n",
              " 'sonyericsson': 4341,\n",
              " 'tooth': 4849,\n",
              " 'hv': 2192,\n",
              " 'member': 2865,\n",
              " 'aunt': 317,\n",
              " 'flow': 1669,\n",
              " 'visit': 5109,\n",
              " 'month': 2972,\n",
              " 'caus': 716,\n",
              " 'develop': 1170,\n",
              " 'ovarian': 3338,\n",
              " 'cyst': 1061,\n",
              " 'bc': 401,\n",
              " 'shrink': 4190,\n",
              " 'okmail': 3259,\n",
              " 'dave': 1088,\n",
              " 'notic': 3186,\n",
              " 'collect': 878,\n",
              " 'tenerif': 4686,\n",
              " 'holiday': 2119,\n",
              " 'landlin': 2554,\n",
              " 'tc': 4654,\n",
              " 'sae': 3983,\n",
              " 'cw': 1058,\n",
              " 'ppm': 3594,\n",
              " 'true': 4904,\n",
              " 'pw': 3719,\n",
              " 'nd': 3079,\n",
              " 'inde': 2276,\n",
              " 'either': 1384,\n",
              " 'monday': 2964,\n",
              " 'dentist': 1146,\n",
              " 'hour': 2155,\n",
              " 'frnd': 1754,\n",
              " 'neces': 3085,\n",
              " 'imagin': 2242,\n",
              " 'urself': 5033,\n",
              " 'witout': 5292,\n",
              " 'hw': 2194,\n",
              " 'wth': 5362,\n",
              " 'cell': 726,\n",
              " 'abt': 16,\n",
              " 'function': 1781,\n",
              " 'event': 1478,\n",
              " 'esp': 1459,\n",
              " 'irrit': 2343,\n",
              " 'wrd': 5346,\n",
              " 'wthout': 5363,\n",
              " 'takecar': 4624,\n",
              " 'goodmorn': 1901,\n",
              " 'hospit': 2146,\n",
              " 'return': 3897,\n",
              " 'hungri': 2181,\n",
              " 'wot': 5335,\n",
              " 'weirdo': 5211,\n",
              " 'how': 2158,\n",
              " 'resiz': 3881,\n",
              " 'bugi': 622,\n",
              " 'jokin': 2426,\n",
              " 'oni': 3274,\n",
              " 'busi': 638,\n",
              " 'wun': 5369,\n",
              " 'surf': 4565,\n",
              " 'drink': 1303,\n",
              " 'plenti': 3522,\n",
              " 'water': 5174,\n",
              " 'trip': 4897,\n",
              " 'lor': 2697,\n",
              " 'uni': 4988,\n",
              " 'co': 856,\n",
              " 'modul': 2955,\n",
              " 'ju': 2442,\n",
              " 'yr': 5442,\n",
              " 'project': 3669,\n",
              " 'wow': 5341,\n",
              " 'impress': 2259,\n",
              " 'shop': 4170,\n",
              " 'lost': 2702,\n",
              " 'fact': 1542,\n",
              " 'tee': 4666,\n",
              " 'feb': 1586,\n",
              " 'di': 1180,\n",
              " 'valu': 5059,\n",
              " 'evn': 1493,\n",
              " 'marri': 2815,\n",
              " 'evr': 1495,\n",
              " 'thanx': 4721,\n",
              " 'school': 4039,\n",
              " 'direct': 1211,\n",
              " 'rpli': 3950,\n",
              " 'titl': 4798,\n",
              " 'eg': 1376,\n",
              " 'breath': 571,\n",
              " 'crazyin': 995,\n",
              " 'sleepingwith': 4260,\n",
              " 'finest': 1629,\n",
              " 'ymca': 5429,\n",
              " 'getz': 1851,\n",
              " 'uk': 4959,\n",
              " 'pobox': 3533,\n",
              " 'wq': 5343,\n",
              " 'uniqu': 4991,\n",
              " 'user': 5039,\n",
              " 'remov': 3860,\n",
              " 'aaooooright': 2,\n",
              " 'newspap': 3124,\n",
              " 'pic': 3484,\n",
              " 'balanc': 362,\n",
              " 'current': 1042,\n",
              " 'pound': 3585,\n",
              " 'maxim': 2836,\n",
              " 'cc': 720,\n",
              " 'tcr': 4655,\n",
              " 'finish': 1631,\n",
              " 'daddi': 1066,\n",
              " 'scream': 4049,\n",
              " 'slap': 4255,\n",
              " 'ass': 284,\n",
              " 'dick': 1186,\n",
              " 'men': 2869,\n",
              " 'sound': 4356,\n",
              " 'someon': 4324,\n",
              " 'test': 4700,\n",
              " 'sayi': 4031,\n",
              " 'pay': 3415,\n",
              " 'stock': 4466,\n",
              " 'comin': 889,\n",
              " 'yoga': 5431,\n",
              " 'cours': 978,\n",
              " 'pilat': 3491,\n",
              " 'aww': 339,\n",
              " 'nearli': 3084,\n",
              " 'dead': 1097,\n",
              " 'jez': 2409,\n",
              " 'iscom': 2345,\n",
              " 'todo': 4821,\n",
              " 'workand': 5324,\n",
              " 'whilltak': 5244,\n",
              " 'forev': 1698,\n",
              " 'greatest': 1945,\n",
              " 'courag': 977,\n",
              " 'earth': 1349,\n",
              " 'bear': 411,\n",
              " 'defeat': 1121,\n",
              " 'without': 5290,\n",
              " 'heart': 2054,\n",
              " 'gn': 1877,\n",
              " 'room': 3939,\n",
              " 'knock': 2521,\n",
              " 'noth': 3184,\n",
              " 'easi': 1350,\n",
              " 'reason': 3800,\n",
              " 'risk': 3922,\n",
              " 'convey': 949,\n",
              " 'mani': 2798,\n",
              " 'beauti': 413,\n",
              " 'librari': 2620,\n",
              " 'taj': 4622,\n",
              " 'mahal': 2774,\n",
              " 'symbol': 4606,\n",
              " 'lesser': 2611,\n",
              " 'known': 2523,\n",
              " 'mumtaz': 3030,\n",
              " 'shahjahan': 4123,\n",
              " 'th': 4714,\n",
              " 'kill': 2506,\n",
              " 'husband': 2188,\n",
              " 'die': 1190,\n",
              " 'aris': 250,\n",
              " 'hell': 2066,\n",
              " 'great': 1944,\n",
              " 'hari': 2020,\n",
              " 'ingredi': 2291,\n",
              " 'ten': 4683,\n",
              " 'rs': 3952,\n",
              " 'shelf': 4141,\n",
              " 'two': 4937,\n",
              " 'gud': 1969,\n",
              " 'ni': 3128,\n",
              " 'slp': 4272,\n",
              " 'swt': 4602,\n",
              " 'muah': 3019,\n",
              " 'chillin': 791,\n",
              " 'poop': 3560,\n",
              " 'ill': 2237,\n",
              " 'prob': 3654,\n",
              " 'laptop': 2561,\n",
              " 'fix': 1644,\n",
              " 'cuz': 1057,\n",
              " 'gpu': 1925,\n",
              " 'yep': 5417,\n",
              " 'yesterday': 5420,\n",
              " 'fireplac': 1636,\n",
              " 'anoth': 189,\n",
              " 'icon': 2214,\n",
              " 'freemsg': 1736,\n",
              " 'reward': 3903,\n",
              " 'subscrib': 4520,\n",
              " 'gbp': 1824,\n",
              " 'mnth': 2942,\n",
              " 'inc': 2262,\n",
              " 'txtstop': 4944,\n",
              " 'frm': 1752,\n",
              " 'tht': 4773,\n",
              " 'unknown': 4997,\n",
              " 'mad': 2762,\n",
              " 'woke': 5308,\n",
              " 'yeah': 5408,\n",
              " 'confirm': 927,\n",
              " 'weekend': 5203,\n",
              " 'bought': 544,\n",
              " 'cost': 965,\n",
              " 'offer': 3241,\n",
              " 'etc': 1467,\n",
              " 'pple': 3593,\n",
              " 'excel': 1502,\n",
              " 'locat': 2672,\n",
              " 'breakfast': 570,\n",
              " 'hamper': 1999,\n",
              " 'wen': 5217,\n",
              " 'lovabl': 2712,\n",
              " 'bcum': 407,\n",
              " 'angri': 179,\n",
              " 'wid': 5257,\n",
              " 'serious': 4102,\n",
              " 'coz': 983,\n",
              " 'childish': 786,\n",
              " 'affect': 76,\n",
              " 'kettoda': 2493,\n",
              " 'manda': 2792,\n",
              " 'could': 971,\n",
              " 'roommat': 3940,\n",
              " 'mum': 3026,\n",
              " 'rest': 3888,\n",
              " 'delay': 1129,\n",
              " 'master': 2822,\n",
              " 'attent': 308,\n",
              " 'job': 2417,\n",
              " 'kiss': 2516,\n",
              " 'smile': 4286,\n",
              " 'across': 41,\n",
              " 'sea': 4058,\n",
              " 'ic': 2207,\n",
              " 'meant': 2846,\n",
              " 'mari': 2809,\n",
              " 'jane': 2381,\n",
              " 'bit': 482,\n",
              " 'left': 2597,\n",
              " 'rub': 3959,\n",
              " 'feet': 1595,\n",
              " 'readi': 3790,\n",
              " 'date': 1085,\n",
              " 'kind': 2508,\n",
              " 'urgent': 5025,\n",
              " 'kb': 2482,\n",
              " 'power': 3588,\n",
              " 'dunno': 1333,\n",
              " 'tahan': 4620,\n",
              " 'anot': 188,\n",
              " 'thk': 4750,\n",
              " 'lo': 2667,\n",
              " 'oso': 3318,\n",
              " 'liao': 2618,\n",
              " 'complimentari': 911,\n",
              " 'ibiza': 2202,\n",
              " 'await': 333,\n",
              " 'cs': 1018,\n",
              " 'sk': 4240,\n",
              " 'wp': 5342,\n",
              " 'lock': 2673,\n",
              " 'keypad': 2495,\n",
              " 'specif': 4376,\n",
              " 'expect': 1518,\n",
              " 'batteri': 393,\n",
              " 'hont': 2132,\n",
              " 'download': 1289,\n",
              " 'compliment': 910,\n",
              " 'away': 336,\n",
              " 'system': 4611,\n",
              " 'side': 4203,\n",
              " 'chequ': 773,\n",
              " 'dorothi': 1279,\n",
              " 'kiefer': 2505,\n",
              " 'com': 882,\n",
              " 'bank': 374,\n",
              " 'granit': 1935,\n",
              " 'issu': 2350,\n",
              " 'strong': 4500,\n",
              " 'explos': 1526,\n",
              " 'nasdaq': 3065,\n",
              " 'cdgt': 722,\n",
              " 'dresser': 1301,\n",
              " 'short': 4174,\n",
              " 'birthday': 480,\n",
              " 'may': 2838,\n",
              " 'find': 1627,\n",
              " 'princ': 3640,\n",
              " 'charm': 752,\n",
              " 'dun': 1331,\n",
              " 'hard': 2015,\n",
              " 'fail': 1545,\n",
              " 'sad': 3982,\n",
              " 'marrow': 2817,\n",
              " 'wed': 5195,\n",
              " 'aha': 97,\n",
              " 'chechi': 762,\n",
              " 'import': 2254,\n",
              " 'log': 2675,\n",
              " 'onto': 3279,\n",
              " 'http': 2171,\n",
              " 'www': 5370,\n",
              " 'urawinn': 5023,\n",
              " 'fantast': 1561,\n",
              " 'surpris': 4569,\n",
              " 'renew': 3862,\n",
              " 'oki': 3258,\n",
              " 'escal': 1455,\n",
              " 'eye': 1535,\n",
              " 'philosophi': 3472,\n",
              " 'fool': 1689,\n",
              " 'cheat': 761,\n",
              " 'other': 3320,\n",
              " 'march': 2805,\n",
              " 'earli': 1345,\n",
              " 'izzit': 2367,\n",
              " 'spend': 4381,\n",
              " 'qualiti': 3730,\n",
              " 'togeth': 4823,\n",
              " 'summer': 4542,\n",
              " 'celebr': 725,\n",
              " 'magic': 2771,\n",
              " 'sight': 4205,\n",
              " 'world': 5327,\n",
              " 'dress': 1300,\n",
              " 'white': 5246,\n",
              " 'oooooh': 3283,\n",
              " 'snow': 4303,\n",
              " 'iouri': 2332,\n",
              " 'wyli': 5372,\n",
              " 'ryan': 3977,\n",
              " 'darren': 1081,\n",
              " 'consid': 935,\n",
              " 'mah': 2773,\n",
              " 'onluy': 3277,\n",
              " 'matter': 2832,\n",
              " 'offcampu': 3238,\n",
              " 'wont': 5315,\n",
              " 'depend': 1148,\n",
              " 'wan': 5154,\n",
              " 'howz': 2164,\n",
              " 'pain': 3361,\n",
              " 'ystrday': 5443,\n",
              " 'ice': 2209,\n",
              " 'mailbox': 2778,\n",
              " 'alert': 123,\n",
              " 'retriev': 3896,\n",
              " 'walk': 5145,\n",
              " 'stagwood': 4427,\n",
              " 'winterston': 5279,\n",
              " 'victor': 5087,\n",
              " 'hill': 2090,\n",
              " 'hate': 2027,\n",
              " 'accept': 24,\n",
              " 'singl': 4225,\n",
              " 'mine': 2902,\n",
              " 'eeri': 1374,\n",
              " 'dracula': 1293,\n",
              " 'ghost': 1854,\n",
              " 'addamsfa': 49,\n",
              " 'munster': 3031,\n",
              " 'exorcist': 1516,\n",
              " 'twilight': 4933,\n",
              " 'dr': 1292,\n",
              " 'appt': 229,\n",
              " 'listen': 2652,\n",
              " 'thinkin': 4745,\n",
              " 'area': 240,\n",
              " 'cncl': 852,\n",
              " 'stopc': 4475,\n",
              " 'jay': 2388,\n",
              " 'darlin': 1080,\n",
              " 'supos': 4557,\n",
              " 'film': 1620,\n",
              " 'mate': 2826,\n",
              " 'babysit': 352,\n",
              " 'chocol': 801,\n",
              " 'weed': 5201,\n",
              " 'alcohol': 121,\n",
              " 'london': 2684,\n",
              " 'smash': 4281,\n",
              " ...}"
            ]
          },
          "metadata": {
            "tags": []
          },
          "execution_count": 20
        }
      ]
    },
    {
      "cell_type": "code",
      "metadata": {
        "id": "aJD4Ga4umJFF"
      },
      "source": [
        "def report(y_test, y_pred):\n",
        "  from sklearn.metrics import confusion_matrix, accuracy_score, recall_score, precision_score, f1_score\n",
        "  import seaborn as sns\n",
        "\n",
        "  cm = confusion_matrix(y_test, y_pred)\n",
        "  print('Accuracy:', accuracy_score(y_test, y_pred), sep='\\t')\n",
        "  print('Precision:', precision_score(y_test, y_pred), sep='\\t')\n",
        "  print('Recall:', recall_score(y_test, y_pred), sep='\\t\\t')\n",
        "  print('F1:', f1_score(y_test, y_pred), sep='\\t\\t')\n",
        "  print('\\n')\n",
        "\n",
        "  plt.figure(figsize=(8, 6))\n",
        "  sns.heatmap(cm, annot=True, cmap=plt.cm.Blues, fmt = 'd', annot_kws={\"size\": 35}).set_title('Confusion Matrix')\n",
        "  plt.show()"
      ],
      "execution_count": 83,
      "outputs": []
    },
    {
      "cell_type": "markdown",
      "metadata": {
        "id": "OuTu4-c8Zmg6"
      },
      "source": [
        "##Training The Model Using GaussianNB"
      ]
    },
    {
      "cell_type": "code",
      "metadata": {
        "id": "AJjjlS1auM53",
        "outputId": "325f4623-052b-4daf-d4e4-a8d3f274b074",
        "colab": {
          "base_uri": "https://localhost:8080/",
          "height": 510
        }
      },
      "source": [
        "from sklearn.naive_bayes import GaussianNB\n",
        "\n",
        "model = GaussianNB(var_smoothing=0.1)\n",
        "model.fit(X_train, y_train)\n",
        "y_pred = model.predict(X_test)\n",
        "\n",
        "report(y_test, y_pred)"
      ],
      "execution_count": 84,
      "outputs": [
        {
          "output_type": "stream",
          "text": [
            "Accuracy:\t0.9813352476669059\n",
            "Precision:\t0.9877300613496932\n",
            "Recall:\t\t0.8702702702702703\n",
            "F1:\t\t0.925287356321839\n",
            "\n",
            "\n"
          ],
          "name": "stdout"
        },
        {
          "output_type": "display_data",
          "data": {
            "image/png": "[encoded data removed]",
            "text/plain": [
              "<Figure size 576x432 with 2 Axes>"
            ]
          },
          "metadata": {
            "tags": [],
            "needs_background": "light"
          }
        }
      ]
    },
    {
      "cell_type": "markdown",
      "metadata": {
        "id": "7AfxahIIwIyh"
      },
      "source": [
        "##Training The Model Using BernoulliNB"
      ]
    },
    {
      "cell_type": "code",
      "metadata": {
        "id": "uh3NDUhLuQcR",
        "outputId": "ea017af9-c18c-456c-e519-685d66ad7cf1",
        "colab": {
          "base_uri": "https://localhost:8080/",
          "height": 510
        }
      },
      "source": [
        "from sklearn.naive_bayes import BernoulliNB\n",
        "\n",
        "model = BernoulliNB(alpha=0.01)\n",
        "model.fit(X_train, y_train)\n",
        "y_pred = model.predict(X_test)\n",
        "\n",
        "report(y_test, y_pred)"
      ],
      "execution_count": 85,
      "outputs": [
        {
          "output_type": "stream",
          "text": [
            "Accuracy:\t0.9899497487437185\n",
            "Precision:\t1.0\n",
            "Recall:\t\t0.9243243243243243\n",
            "F1:\t\t0.9606741573033708\n",
            "\n",
            "\n"
          ],
          "name": "stdout"
        },
        {
          "output_type": "display_data",
          "data": {
            "image/png": "[encoded data removed]",
            "text/plain": [
              "<Figure size 576x432 with 2 Axes>"
            ]
          },
          "metadata": {
            "tags": [],
            "needs_background": "light"
          }
        }
      ]
    },
    {
      "cell_type": "markdown",
      "metadata": {
        "id": "i-VVEePcwuEC"
      },
      "source": [
        "##Training The Model Using ComplementNB"
      ]
    },
    {
      "cell_type": "code",
      "metadata": {
        "id": "TdM22U9sun5V",
        "outputId": "191df51d-6e51-4956-e2d6-f2a7a450796a",
        "colab": {
          "base_uri": "https://localhost:8080/",
          "height": 510
        }
      },
      "source": [
        "from sklearn.naive_bayes import ComplementNB\n",
        "\n",
        "model = ComplementNB(alpha=0.02)\n",
        "model.fit(X_train, y_train)\n",
        "y_pred = model.predict(X_test)\n",
        "\n",
        "report(y_test, y_pred)"
      ],
      "execution_count": 86,
      "outputs": [
        {
          "output_type": "stream",
          "text": [
            "Accuracy:\t0.9734386216798278\n",
            "Precision:\t0.87\n",
            "Recall:\t\t0.9405405405405406\n",
            "F1:\t\t0.903896103896104\n",
            "\n",
            "\n"
          ],
          "name": "stdout"
        },
        {
          "output_type": "display_data",
          "data": {
            "image/png": "[encoded data removed]",
            "text/plain": [
              "<Figure size 576x432 with 2 Axes>"
            ]
          },
          "metadata": {
            "tags": [],
            "needs_background": "light"
          }
        }
      ]
    },
    {
      "cell_type": "markdown",
      "metadata": {
        "id": "utrztcApwr5W"
      },
      "source": [
        "##Training The Model Using MultinomialNB"
      ]
    },
    {
      "cell_type": "code",
      "metadata": {
        "id": "uOrHY2qwik74",
        "outputId": "5a333b13-4c1c-42d9-eb5c-7c3891123e67",
        "colab": {
          "base_uri": "https://localhost:8080/",
          "height": 510
        }
      },
      "source": [
        "from sklearn.naive_bayes import MultinomialNB\n",
        "\n",
        "model = MultinomialNB(alpha = 0.3)\n",
        "model.fit(X_train, y_train)\n",
        "y_pred = model.predict(X_test)\n",
        "\n",
        "report(y_test, y_pred)"
      ],
      "execution_count": 87,
      "outputs": [
        {
          "output_type": "stream",
          "text": [
            "Accuracy:\t0.9885139985642498\n",
            "Precision:\t0.9668508287292817\n",
            "Recall:\t\t0.9459459459459459\n",
            "F1:\t\t0.9562841530054644\n",
            "\n",
            "\n"
          ],
          "name": "stdout"
        },
        {
          "output_type": "display_data",
          "data": {
            "image/png": "[encoded data removed]",
            "text/plain": [
              "<Figure size 576x432 with 2 Axes>"
            ]
          },
          "metadata": {
            "tags": [],
            "needs_background": "light"
          }
        }
      ]
    },
    {
      "cell_type": "markdown",
      "metadata": {
        "id": "--YeJHO78a-5"
      },
      "source": [
        "##Training The Model Using XGBClassifier"
      ]
    },
    {
      "cell_type": "code",
      "metadata": {
        "id": "qVz2ta3Dv9UM",
        "outputId": "c4d50d89-5afb-4604-c284-eda45c82f4c0",
        "colab": {
          "base_uri": "https://localhost:8080/",
          "height": 510
        }
      },
      "source": [
        "from xgboost import XGBClassifier\n",
        "\n",
        "model = XGBClassifier()\n",
        "model.fit(X_train, y_train)\n",
        "y_pred = model.predict(X_test)\n",
        "\n",
        "report(y_test, y_pred)"
      ],
      "execution_count": 88,
      "outputs": [
        {
          "output_type": "stream",
          "text": [
            "Accuracy:\t0.9734386216798278\n",
            "Precision:\t0.9933333333333333\n",
            "Recall:\t\t0.8054054054054054\n",
            "F1:\t\t0.8895522388059701\n",
            "\n",
            "\n"
          ],
          "name": "stdout"
        },
        {
          "output_type": "display_data",
          "data": {
            "image/png": "[encoded data removed]",
            "text/plain": [
              "<Figure size 576x432 with 2 Axes>"
            ]
          },
          "metadata": {
            "tags": [],
            "needs_background": "light"
          }
        }
      ]
    },
    {
      "cell_type": "markdown",
      "metadata": {
        "id": "nDGBts-48esy"
      },
      "source": [
        "##Training The Model Using GradientBoostingClassifier"
      ]
    },
    {
      "cell_type": "code",
      "metadata": {
        "id": "bbjbRgZY1psS",
        "outputId": "c7216e3d-be74-4fd4-db86-96a776ce1986",
        "colab": {
          "base_uri": "https://localhost:8080/",
          "height": 510
        }
      },
      "source": [
        "from sklearn.ensemble import GradientBoostingClassifier\n",
        "\n",
        "model = GradientBoostingClassifier(random_state = 0)\n",
        "\n",
        "model.fit(X_train, y_train)\n",
        "y_pred = model.predict(X_test)\n",
        "\n",
        "report(y_test, y_pred)"
      ],
      "execution_count": 165,
      "outputs": [
        {
          "output_type": "stream",
          "text": [
            "Accuracy:\t0.9755922469490309\n",
            "Precision:\t0.9870967741935484\n",
            "Recall:\t\t0.827027027027027\n",
            "F1:\t\t0.9\n",
            "\n",
            "\n"
          ],
          "name": "stdout"
        },
        {
          "output_type": "display_data",
          "data": {
            "image/png": "[encoded data removed]",
            "text/plain": [
              "<Figure size 576x432 with 2 Axes>"
            ]
          },
          "metadata": {
            "tags": [],
            "needs_background": "light"
          }
        }
      ]
    },
    {
      "cell_type": "markdown",
      "metadata": {
        "id": "9u83RNuU8inZ"
      },
      "source": [
        "##Training The Model Using AdaBoostClassifier"
      ]
    },
    {
      "cell_type": "code",
      "metadata": {
        "id": "418sA_tB7qB3",
        "outputId": "07a060c2-3467-4928-af2f-0d4c5d01b306",
        "colab": {
          "base_uri": "https://localhost:8080/",
          "height": 510
        }
      },
      "source": [
        "from sklearn.ensemble import AdaBoostClassifier\n",
        "\n",
        "model = AdaBoostClassifier(random_state = 0)\n",
        "\n",
        "model.fit(X_train, y_train)\n",
        "y_pred = model.predict(X_test)\n",
        "\n",
        "report(y_test, y_pred)"
      ],
      "execution_count": 168,
      "outputs": [
        {
          "output_type": "stream",
          "text": [
            "Accuracy:\t0.9791816223977028\n",
            "Precision:\t0.9642857142857143\n",
            "Recall:\t\t0.8756756756756757\n",
            "F1:\t\t0.9178470254957507\n",
            "\n",
            "\n"
          ],
          "name": "stdout"
        },
        {
          "output_type": "display_data",
          "data": {
            "image/png": "[encoded data removed]",
            "text/plain": [
              "<Figure size 576x432 with 2 Axes>"
            ]
          },
          "metadata": {
            "tags": [],
            "needs_background": "light"
          }
        }
      ]
    },
    {
      "cell_type": "markdown",
      "metadata": {
        "id": "Qsd1b0ow8ma2"
      },
      "source": [
        "##Training The Model Using SVC"
      ]
    },
    {
      "cell_type": "code",
      "metadata": {
        "id": "S5slUXly7aEf",
        "outputId": "c702c439-30db-497e-dba0-53e5206719db",
        "colab": {
          "base_uri": "https://localhost:8080/",
          "height": 510
        }
      },
      "source": [
        "from sklearn.svm import SVC\n",
        "\n",
        "model = SVC(kernel = 'rbf',\n",
        "            random_state = 0)\n",
        "\n",
        "model.fit(X_train, y_train)\n",
        "y_pred = model.predict(X_test)\n",
        "\n",
        "report(y_test, y_pred)"
      ],
      "execution_count": 181,
      "outputs": [
        {
          "output_type": "stream",
          "text": [
            "Accuracy:\t0.9842067480258435\n",
            "Precision:\t1.0\n",
            "Recall:\t\t0.8810810810810811\n",
            "F1:\t\t0.9367816091954023\n",
            "\n",
            "\n"
          ],
          "name": "stdout"
        },
        {
          "output_type": "display_data",
          "data": {
            "image/png": "[encoded data removed]",
            "text/plain": [
              "<Figure size 576x432 with 2 Axes>"
            ]
          },
          "metadata": {
            "tags": [],
            "needs_background": "light"
          }
        }
      ]
    },
    {
      "cell_type": "code",
      "metadata": {
        "id": "h3RlB5zB89oW",
        "outputId": "ae35459f-b6e3-4081-833c-fa8f539ba3b5",
        "colab": {
          "base_uri": "https://localhost:8080/",
          "height": 510
        }
      },
      "source": [
        "from sklearn.svm import SVC\n",
        "\n",
        "model = SVC(kernel = 'linear',\n",
        "            gamma = 0.01,\n",
        "            random_state = 0)\n",
        "\n",
        "model.fit(X_train, y_train)\n",
        "y_pred = model.predict(X_test)\n",
        "\n",
        "report(y_test, y_pred)"
      ],
      "execution_count": 179,
      "outputs": [
        {
          "output_type": "stream",
          "text": [
            "Accuracy:\t0.9842067480258435\n",
            "Precision:\t0.9553072625698324\n",
            "Recall:\t\t0.9243243243243243\n",
            "F1:\t\t0.9395604395604397\n",
            "\n",
            "\n"
          ],
          "name": "stdout"
        },
        {
          "output_type": "display_data",
          "data": {
            "image/png": "[encoded data removed]",
            "text/plain": [
              "<Figure size 576x432 with 2 Axes>"
            ]
          },
          "metadata": {
            "tags": [],
            "needs_background": "light"
          }
        }
      ]
    },
    {
      "cell_type": "markdown",
      "metadata": {
        "id": "I5YHlQ2J8q5k"
      },
      "source": [
        "##Training The Model Using ANN"
      ]
    },
    {
      "cell_type": "code",
      "metadata": {
        "id": "9o1GI7rX0WB3",
        "outputId": "1ebc1753-06cf-486a-f288-70f08ce0fb2d",
        "colab": {
          "base_uri": "https://localhost:8080/",
          "height": 680
        }
      },
      "source": [
        "import tensorflow as tf\n",
        "import keras\n",
        "from keras.models import Sequential\n",
        "from keras.layers import Dense\n",
        "\n",
        "# Initializing the ANN\n",
        "ann = Sequential()\n",
        "\n",
        "# Adding the input layer and the first hidden layer\n",
        "ann.add(Dense(units=6, activation='relu'))\n",
        "\n",
        "# Adding the second hidden layer\n",
        "ann.add(Dense(units=6, activation='relu'))\n",
        "\n",
        "# Adding the third hidden layer\n",
        "ann.add(Dense(units=6, activation='relu'))\n",
        "\n",
        "# Adding the output layer\n",
        "ann.add(Dense(units=1, activation='sigmoid'))\n",
        "\n",
        "# Compiling the ANN\n",
        "ann.compile(optimizer = 'adam', \n",
        "            loss = 'binary_crossentropy', \n",
        "            metrics = tf.metrics.Recall())\n",
        "\n",
        "# Training the ANN on the Training set\n",
        "ann.fit(X_train, y_train, \n",
        "        batch_size = 32, \n",
        "        epochs = 5)\n",
        "\n",
        "# Predicting the Test set results\n",
        "y_pred = ann.predict(X_test)\n",
        "y_pred = (y_pred > 0.5)\n",
        "\n",
        "report(y_test, y_pred)"
      ],
      "execution_count": 140,
      "outputs": [
        {
          "output_type": "stream",
          "text": [
            "Epoch 1/5\n",
            "131/131 [==============================] - 0s 3ms/step - loss: 0.5052 - recall_35: 0.2242\n",
            "Epoch 2/5\n",
            "131/131 [==============================] - 0s 3ms/step - loss: 0.1660 - recall_35: 0.8345\n",
            "Epoch 3/5\n",
            "131/131 [==============================] - 0s 3ms/step - loss: 0.0525 - recall_35: 0.9448\n",
            "Epoch 4/5\n",
            "131/131 [==============================] - 0s 3ms/step - loss: 0.0254 - recall_35: 0.9733\n",
            "Epoch 5/5\n",
            "131/131 [==============================] - 0s 3ms/step - loss: 0.0160 - recall_35: 0.9786\n",
            "Accuracy:\t0.9921033740129217\n",
            "Precision:\t1.0\n",
            "Recall:\t\t0.9405405405405406\n",
            "F1:\t\t0.9693593314763231\n",
            "\n",
            "\n"
          ],
          "name": "stdout"
        },
        {
          "output_type": "display_data",
          "data": {
            "image/png": "[encoded data removed]",
            "text/plain": [
              "<Figure size 576x432 with 2 Axes>"
            ]
          },
          "metadata": {
            "tags": [],
            "needs_background": "light"
          }
        }
      ]
    }
  ]
}